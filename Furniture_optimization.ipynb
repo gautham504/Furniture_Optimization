{
  "cells": [
    {
      "cell_type": "code",
      "execution_count": 1,
      "metadata": {
        "colab": {
          "base_uri": "https://localhost:8080/"
        },
        "id": "5Hqs2FPfzoK_",
        "outputId": "6c6f3565-4df2-4269-cea8-ca382a1f6d06"
      },
      "outputs": [
        {
          "name": "stdout",
          "output_type": "stream",
          "text": [
            "Creating sample room layout...\n",
            "Running optimization algorithms...\n",
            "Running Pelican...\n",
            " Run 1/75\n",
            "POA early stopping at iteration 49\n",
            " Run 2/75\n",
            "POA early stopping at iteration 75\n",
            " Run 3/75\n",
            "POA early stopping at iteration 75\n",
            " Run 4/75\n",
            "POA early stopping at iteration 50\n",
            " Run 5/75\n",
            "POA early stopping at iteration 49\n",
            " Run 6/75\n",
            "POA early stopping at iteration 72\n",
            " Run 7/75\n",
            "POA early stopping at iteration 49\n",
            " Run 8/75\n",
            "POA early stopping at iteration 49\n",
            " Run 9/75\n",
            "POA early stopping at iteration 76\n",
            " Run 10/75\n",
            "POA early stopping at iteration 49\n",
            " Run 11/75\n",
            "POA early stopping at iteration 71\n",
            " Run 12/75\n",
            "POA early stopping at iteration 49\n",
            " Run 13/75\n",
            "POA early stopping at iteration 87\n",
            " Run 14/75\n",
            "POA early stopping at iteration 62\n",
            " Run 15/75\n",
            "POA early stopping at iteration 60\n",
            " Run 16/75\n",
            "POA early stopping at iteration 62\n",
            " Run 17/75\n",
            "POA early stopping at iteration 65\n",
            " Run 18/75\n",
            "POA early stopping at iteration 55\n",
            " Run 19/75\n",
            " Run 20/75\n",
            "POA early stopping at iteration 49\n",
            " Run 21/75\n",
            "POA early stopping at iteration 52\n",
            " Run 22/75\n",
            "POA early stopping at iteration 49\n",
            " Run 23/75\n",
            "POA early stopping at iteration 49\n",
            " Run 24/75\n",
            "POA early stopping at iteration 49\n",
            " Run 25/75\n",
            "POA early stopping at iteration 49\n",
            " Run 26/75\n",
            "POA early stopping at iteration 49\n",
            " Run 27/75\n",
            "POA early stopping at iteration 86\n",
            " Run 28/75\n",
            "POA early stopping at iteration 49\n",
            " Run 29/75\n",
            "POA early stopping at iteration 49\n",
            " Run 30/75\n",
            "POA early stopping at iteration 49\n",
            " Run 31/75\n",
            "POA early stopping at iteration 88\n",
            " Run 32/75\n",
            "POA early stopping at iteration 56\n",
            " Run 33/75\n",
            "POA early stopping at iteration 87\n",
            " Run 34/75\n",
            "POA early stopping at iteration 52\n",
            " Run 35/75\n",
            "POA early stopping at iteration 49\n",
            " Run 36/75\n",
            "POA early stopping at iteration 49\n",
            " Run 37/75\n",
            "POA early stopping at iteration 80\n",
            " Run 38/75\n",
            "POA early stopping at iteration 49\n",
            " Run 39/75\n",
            "POA early stopping at iteration 87\n",
            " Run 40/75\n",
            "POA early stopping at iteration 49\n",
            " Run 41/75\n",
            "POA early stopping at iteration 57\n",
            " Run 42/75\n",
            "POA early stopping at iteration 63\n",
            " Run 43/75\n",
            "POA early stopping at iteration 49\n",
            " Run 44/75\n",
            "POA early stopping at iteration 75\n",
            " Run 45/75\n",
            "POA early stopping at iteration 49\n",
            " Run 46/75\n",
            "POA early stopping at iteration 49\n",
            " Run 47/75\n",
            "POA early stopping at iteration 85\n",
            " Run 48/75\n",
            "POA early stopping at iteration 61\n",
            " Run 49/75\n",
            "POA early stopping at iteration 56\n",
            " Run 50/75\n",
            "POA early stopping at iteration 49\n",
            " Run 51/75\n",
            "POA early stopping at iteration 80\n",
            " Run 52/75\n",
            "POA early stopping at iteration 49\n",
            " Run 53/75\n",
            "POA early stopping at iteration 55\n",
            " Run 54/75\n",
            "POA early stopping at iteration 84\n",
            " Run 55/75\n",
            " Run 56/75\n",
            "POA early stopping at iteration 49\n",
            " Run 57/75\n",
            "POA early stopping at iteration 74\n",
            " Run 58/75\n",
            "POA early stopping at iteration 72\n",
            " Run 59/75\n",
            "POA early stopping at iteration 49\n",
            " Run 60/75\n",
            "POA early stopping at iteration 56\n",
            " Run 61/75\n",
            "POA early stopping at iteration 49\n",
            " Run 62/75\n",
            "POA early stopping at iteration 61\n",
            " Run 63/75\n",
            "POA early stopping at iteration 69\n",
            " Run 64/75\n",
            "POA early stopping at iteration 49\n",
            " Run 65/75\n",
            "POA early stopping at iteration 49\n",
            " Run 66/75\n",
            "POA early stopping at iteration 55\n",
            " Run 67/75\n",
            "POA early stopping at iteration 71\n",
            " Run 68/75\n",
            "POA early stopping at iteration 49\n",
            " Run 69/75\n",
            "POA early stopping at iteration 65\n",
            " Run 70/75\n",
            "POA early stopping at iteration 59\n",
            " Run 71/75\n",
            "POA early stopping at iteration 54\n",
            " Run 72/75\n",
            "POA early stopping at iteration 54\n",
            " Run 73/75\n",
            "POA early stopping at iteration 53\n",
            " Run 74/75\n",
            "POA early stopping at iteration 53\n",
            " Run 75/75\n",
            "POA early stopping at iteration 67\n",
            "Running Genetic...\n",
            " Run 1/75\n",
            " Run 2/75\n",
            " Run 3/75\n",
            " Run 4/75\n",
            " Run 5/75\n",
            " Run 6/75\n",
            " Run 7/75\n",
            " Run 8/75\n",
            " Run 9/75\n",
            " Run 10/75\n",
            " Run 11/75\n",
            " Run 12/75\n",
            " Run 13/75\n",
            " Run 14/75\n",
            " Run 15/75\n",
            " Run 16/75\n",
            " Run 17/75\n",
            " Run 18/75\n",
            " Run 19/75\n",
            " Run 20/75\n",
            " Run 21/75\n",
            " Run 22/75\n",
            " Run 23/75\n",
            " Run 24/75\n",
            " Run 25/75\n",
            " Run 26/75\n",
            " Run 27/75\n",
            " Run 28/75\n",
            " Run 29/75\n",
            " Run 30/75\n",
            " Run 31/75\n",
            " Run 32/75\n",
            " Run 33/75\n",
            " Run 34/75\n",
            " Run 35/75\n",
            " Run 36/75\n",
            " Run 37/75\n",
            " Run 38/75\n",
            " Run 39/75\n",
            " Run 40/75\n",
            " Run 41/75\n",
            " Run 42/75\n",
            " Run 43/75\n",
            " Run 44/75\n",
            " Run 45/75\n",
            " Run 46/75\n",
            " Run 47/75\n",
            " Run 48/75\n",
            " Run 49/75\n",
            " Run 50/75\n",
            " Run 51/75\n",
            " Run 52/75\n",
            " Run 53/75\n",
            " Run 54/75\n",
            " Run 55/75\n",
            " Run 56/75\n",
            " Run 57/75\n",
            " Run 58/75\n",
            " Run 59/75\n",
            " Run 60/75\n",
            " Run 61/75\n",
            " Run 62/75\n",
            " Run 63/75\n",
            " Run 64/75\n",
            " Run 65/75\n",
            " Run 66/75\n",
            " Run 67/75\n",
            " Run 68/75\n",
            " Run 69/75\n",
            " Run 70/75\n",
            " Run 71/75\n",
            " Run 72/75\n",
            " Run 73/75\n",
            " Run 74/75\n",
            " Run 75/75\n",
            "Running PSO...\n",
            " Run 1/75\n",
            " Run 2/75\n",
            " Run 3/75\n",
            " Run 4/75\n",
            " Run 5/75\n",
            " Run 6/75\n",
            " Run 7/75\n",
            " Run 8/75\n",
            " Run 9/75\n",
            " Run 10/75\n",
            " Run 11/75\n",
            " Run 12/75\n",
            " Run 13/75\n",
            " Run 14/75\n",
            " Run 15/75\n",
            " Run 16/75\n",
            " Run 17/75\n",
            " Run 18/75\n",
            " Run 19/75\n",
            " Run 20/75\n",
            " Run 21/75\n",
            " Run 22/75\n",
            " Run 23/75\n",
            " Run 24/75\n",
            " Run 25/75\n",
            " Run 26/75\n",
            " Run 27/75\n",
            " Run 28/75\n",
            " Run 29/75\n",
            " Run 30/75\n",
            " Run 31/75\n",
            " Run 32/75\n",
            " Run 33/75\n",
            " Run 34/75\n",
            " Run 35/75\n",
            " Run 36/75\n",
            " Run 37/75\n",
            " Run 38/75\n",
            " Run 39/75\n",
            " Run 40/75\n",
            " Run 41/75\n",
            " Run 42/75\n",
            " Run 43/75\n",
            " Run 44/75\n",
            " Run 45/75\n",
            " Run 46/75\n",
            " Run 47/75\n",
            " Run 48/75\n",
            " Run 49/75\n",
            " Run 50/75\n",
            " Run 51/75\n",
            " Run 52/75\n",
            " Run 53/75\n",
            " Run 54/75\n",
            " Run 55/75\n",
            " Run 56/75\n",
            " Run 57/75\n",
            " Run 58/75\n",
            " Run 59/75\n",
            " Run 60/75\n",
            " Run 61/75\n",
            " Run 62/75\n",
            " Run 63/75\n",
            " Run 64/75\n",
            " Run 65/75\n",
            " Run 66/75\n",
            " Run 67/75\n",
            " Run 68/75\n",
            " Run 69/75\n",
            " Run 70/75\n",
            " Run 71/75\n",
            " Run 72/75\n",
            " Run 73/75\n",
            " Run 74/75\n",
            " Run 75/75\n",
            "Generating comparison report...\n",
            "\n",
            "================================================================================\n",
            "OPTIMIZATION ALGORITHM COMPARISON REPORT\n",
            "================================================================================\n",
            "\n",
            "SUMMARY STATISTICS:\n",
            "Algorithm  Mean Fitness  Std Fitness  Best Fitness  Worst Fitness  Mean Time (s)  Std Time (s)\n",
            "  Pelican        0.9006       0.0167        0.9220         0.8560         0.7900        0.2308\n",
            "  Genetic        0.8939       0.0093        0.9065         0.8455         0.9277        0.1128\n",
            "      PSO        0.8865       0.0143        0.9030         0.8510         1.1324        0.1472\n",
            "\n",
            "\n",
            "STATISTICAL SIGNIFICANCE TESTING:\n",
            "Pelican vs Genetic: t-stat = 3.0311, p-value = 0.0029 **\n",
            "Pelican vs PSO: t-stat = 5.5458, p-value = 0.0000 ***\n",
            "Genetic vs PSO: t-stat = 3.7472, p-value = 0.0003 ***\n",
            "\n",
            "\n",
            "PERFORMANCE ANALYSIS:\n",
            "POA vs GA improvement: +0.75%\n",
            "POA vs PSO improvement: +1.60%\n",
            "Best performing algorithm: Pelican\n",
            "Creating visualization...\n",
            "Creating best solution visualizations...\n"
          ]
        },
        {
          "name": "stderr",
          "output_type": "stream",
          "text": [
            "C:\\Users\\gauth\\AppData\\Local\\Temp\\ipykernel_19156\\2694604071.py:1592: UserWarning: FigureCanvasAgg is non-interactive, and thus cannot be shown\n",
            "  fig.show()\n"
          ]
        },
        {
          "data": {
            "image/png": "[encoded data removed]",
            "text/plain": [
              "<Figure size 1600x1000 with 1 Axes>"
            ]
          },
          "metadata": {},
          "output_type": "display_data"
        },
        {
          "data": {
            "image/png": "[encoded data removed]",
            "text/plain": [
              "<Figure size 1200x1000 with 1 Axes>"
            ]
          },
          "metadata": {},
          "output_type": "display_data"
        },
        {
          "data": {
            "image/png": "[encoded data removed]",
            "text/plain": [
              "<Figure size 1200x1000 with 1 Axes>"
            ]
          },
          "metadata": {},
          "output_type": "display_data"
        },
        {
          "data": {
            "image/png": "[encoded data removed]",
            "text/plain": [
              "<Figure size 1200x1000 with 1 Axes>"
            ]
          },
          "metadata": {},
          "output_type": "display_data"
        },
        {
          "data": {
            "image/png": "[encoded data removed]",
            "text/plain": [
              "<Figure size 1200x1000 with 1 Axes>"
            ]
          },
          "metadata": {},
          "output_type": "display_data"
        },
        {
          "data": {
            "image/png": "[encoded data removed]",
            "text/plain": [
              "<Figure size 1200x1000 with 1 Axes>"
            ]
          },
          "metadata": {},
          "output_type": "display_data"
        },
        {
          "data": {
            "image/png": "[encoded data removed]",
            "text/plain": [
              "<Figure size 1200x1000 with 1 Axes>"
            ]
          },
          "metadata": {},
          "output_type": "display_data"
        },
        {
          "data": {
            "image/png": "[encoded data removed]",
            "text/plain": [
              "<Figure size 1200x1000 with 1 Axes>"
            ]
          },
          "metadata": {},
          "output_type": "display_data"
        },
        {
          "data": {
            "image/png": "[encoded data removed]",
            "text/plain": [
              "<Figure size 1200x1000 with 1 Axes>"
            ]
          },
          "metadata": {},
          "output_type": "display_data"
        },
        {
          "data": {
            "application/vnd.plotly.v1+json": {
              "config": {
                "plotlyServerURL": "https://plot.ly"
              },
              "data": [
                {
                  "color": "lightgray",
                  "i": [
                    0,
                    0
                  ],
                  "j": [
                    1,
                    2
                  ],
                  "k": [
                    2,
                    3
                  ],
                  "name": "Floor",
                  "opacity": 0.3,
                  "type": "mesh3d",
                  "x": [
                    0,
                    0,
                    5,
                    5
                  ],
                  "y": [
                    0,
                    4,
                    4,
                    0
                  ],
                  "z": [
                    0,
                    0,
                    0,
                    0
                  ]
                },
                {
                  "color": "lightblue",
                  "i": [
                    0,
                    0
                  ],
                  "j": [
                    1,
                    2
                  ],
                  "k": [
                    2,
                    3
                  ],
                  "name": "South Wall",
                  "opacity": 0.2,
                  "type": "mesh3d",
                  "x": [
                    0,
                    0,
                    5,
                    5
                  ],
                  "y": [
                    0,
                    0,
                    0,
                    0
                  ],
                  "z": [
                    0,
                    2.5,
                    2.5,
                    0
                  ]
                },
                {
                  "color": "lightgreen",
                  "i": [
                    0,
                    0
                  ],
                  "j": [
                    1,
                    2
                  ],
                  "k": [
                    2,
                    3
                  ],
                  "name": "East Wall",
                  "opacity": 0.2,
                  "type": "mesh3d",
                  "x": [
                    5,
                    5,
                    5,
                    5
                  ],
                  "y": [
                    0,
                    4,
                    4,
                    0
                  ],
                  "z": [
                    0,
                    0,
                    2.5,
                    2.5
                  ]
                },
                {
                  "color": "lightblue",
                  "i": [
                    0,
                    0
                  ],
                  "j": [
                    1,
                    2
                  ],
                  "k": [
                    2,
                    3
                  ],
                  "name": "North Wall",
                  "opacity": 0.2,
                  "type": "mesh3d",
                  "x": [
                    0,
                    0,
                    5,
                    5
                  ],
                  "y": [
                    4,
                    4,
                    4,
                    4
                  ],
                  "z": [
                    0,
                    2.5,
                    2.5,
                    0
                  ]
                },
                {
                  "color": "lightgreen",
                  "i": [
                    0,
                    0
                  ],
                  "j": [
                    1,
                    2
                  ],
                  "k": [
                    2,
                    3
                  ],
                  "name": "West Wall",
                  "opacity": 0.2,
                  "type": "mesh3d",
                  "x": [
                    0,
                    0,
                    0,
                    0
                  ],
                  "y": [
                    0,
                    4,
                    4,
                    0
                  ],
                  "z": [
                    0,
                    0,
                    2.5,
                    2.5
                  ]
                },
                {
                  "color": "brown",
                  "i": [
                    0,
                    0
                  ],
                  "j": [
                    1,
                    2
                  ],
                  "k": [
                    2,
                    3
                  ],
                  "name": "Door: Door",
                  "opacity": 0.7,
                  "type": "mesh3d",
                  "x": [
                    2,
                    2.9,
                    2.9,
                    2
                  ],
                  "y": [
                    0,
                    0,
                    0,
                    0
                  ],
                  "z": [
                    0,
                    0,
                    2,
                    2
                  ]
                },
                {
                  "color": "skyblue",
                  "i": [
                    0,
                    0
                  ],
                  "j": [
                    1,
                    2
                  ],
                  "k": [
                    2,
                    3
                  ],
                  "name": "Window: Window",
                  "opacity": 0.7,
                  "type": "mesh3d",
                  "x": [
                    1,
                    2.5,
                    2.5,
                    1
                  ],
                  "y": [
                    4,
                    4,
                    4,
                    4
                  ],
                  "z": [
                    1,
                    1,
                    3,
                    3
                  ]
                },
                {
                  "color": "skyblue",
                  "i": [
                    0,
                    0
                  ],
                  "j": [
                    1,
                    2
                  ],
                  "k": [
                    2,
                    3
                  ],
                  "name": "Window: Window",
                  "opacity": 0.7,
                  "type": "mesh3d",
                  "x": [
                    5,
                    5,
                    5,
                    5
                  ],
                  "y": [
                    1.5,
                    2.5,
                    2.5,
                    1.5
                  ],
                  "z": [
                    1,
                    1,
                    3,
                    3
                  ]
                },
                {
                  "color": "#FF6B6B",
                  "i": [
                    0,
                    0,
                    4,
                    4,
                    0,
                    0,
                    1,
                    1,
                    2,
                    2,
                    3,
                    3
                  ],
                  "j": [
                    1,
                    2,
                    5,
                    6,
                    1,
                    5,
                    2,
                    6,
                    3,
                    7,
                    0,
                    4
                  ],
                  "k": [
                    2,
                    3,
                    6,
                    7,
                    5,
                    4,
                    6,
                    5,
                    7,
                    6,
                    4,
                    7
                  ],
                  "name": "Double Bed",
                  "opacity": 0.7,
                  "type": "mesh3d",
                  "x": [
                    0,
                    2,
                    2,
                    0,
                    0,
                    2,
                    2,
                    0
                  ],
                  "y": [
                    1.4320050210408255,
                    1.4320050210408255,
                    3.032005021040826,
                    3.032005021040826,
                    1.4320050210408255,
                    1.4320050210408255,
                    3.032005021040826,
                    3.032005021040826
                  ],
                  "z": [
                    0,
                    0,
                    0,
                    0,
                    0.6,
                    0.6,
                    0.6,
                    0.6
                  ]
                },
                {
                  "mode": "text",
                  "name": "Double Bed Label",
                  "text": [
                    "Double Bed"
                  ],
                  "textfont": {
                    "color": "black",
                    "size": 10
                  },
                  "type": "scatter3d",
                  "x": [
                    1
                  ],
                  "y": [
                    2.2320050210408255
                  ],
                  "z": [
                    0.7
                  ]
                },
                {
                  "color": "#4ECDC4",
                  "i": [
                    0,
                    0,
                    4,
                    4,
                    0,
                    0,
                    1,
                    1,
                    2,
                    2,
                    3,
                    3
                  ],
                  "j": [
                    1,
                    2,
                    5,
                    6,
                    1,
                    5,
                    2,
                    6,
                    3,
                    7,
                    0,
                    4
                  ],
                  "k": [
                    2,
                    3,
                    6,
                    7,
                    5,
                    4,
                    6,
                    5,
                    7,
                    6,
                    4,
                    7
                  ],
                  "name": "Wardrobe",
                  "opacity": 0.7,
                  "type": "mesh3d",
                  "x": [
                    0,
                    1.2,
                    1.2,
                    0,
                    0,
                    1.2,
                    1.2,
                    0
                  ],
                  "y": [
                    0,
                    0,
                    0.6,
                    0.6,
                    0,
                    0,
                    0.6,
                    0.6
                  ],
                  "z": [
                    0,
                    0,
                    0,
                    0,
                    2.2,
                    2.2,
                    2.2,
                    2.2
                  ]
                },
                {
                  "mode": "text",
                  "name": "Wardrobe Label",
                  "text": [
                    "Wardrobe"
                  ],
                  "textfont": {
                    "color": "black",
                    "size": 10
                  },
                  "type": "scatter3d",
                  "x": [
                    0.6
                  ],
                  "y": [
                    0.3
                  ],
                  "z": [
                    2.3000000000000003
                  ]
                },
                {
                  "color": "#45B7D1",
                  "i": [
                    0,
                    0,
                    4,
                    4,
                    0,
                    0,
                    1,
                    1,
                    2,
                    2,
                    3,
                    3
                  ],
                  "j": [
                    1,
                    2,
                    5,
                    6,
                    1,
                    5,
                    2,
                    6,
                    3,
                    7,
                    0,
                    4
                  ],
                  "k": [
                    2,
                    3,
                    6,
                    7,
                    5,
                    4,
                    6,
                    5,
                    7,
                    6,
                    4,
                    7
                  ],
                  "name": "Desk",
                  "opacity": 0.7,
                  "type": "mesh3d",
                  "x": [
                    3.484399477135295,
                    4.684399477135295,
                    4.684399477135295,
                    3.484399477135295,
                    3.484399477135295,
                    4.684399477135295,
                    4.684399477135295,
                    3.484399477135295
                  ],
                  "y": [
                    0,
                    0,
                    0.6,
                    0.6,
                    0,
                    0,
                    0.6,
                    0.6
                  ],
                  "z": [
                    0,
                    0,
                    0,
                    0,
                    0.75,
                    0.75,
                    0.75,
                    0.75
                  ]
                },
                {
                  "mode": "text",
                  "name": "Desk Label",
                  "text": [
                    "Desk"
                  ],
                  "textfont": {
                    "color": "black",
                    "size": 10
                  },
                  "type": "scatter3d",
                  "x": [
                    4.084399477135295
                  ],
                  "y": [
                    0.3
                  ],
                  "z": [
                    0.85
                  ]
                },
                {
                  "color": "#96CEB4",
                  "i": [
                    0,
                    0,
                    4,
                    4,
                    0,
                    0,
                    1,
                    1,
                    2,
                    2,
                    3,
                    3
                  ],
                  "j": [
                    1,
                    2,
                    5,
                    6,
                    1,
                    5,
                    2,
                    6,
                    3,
                    7,
                    0,
                    4
                  ],
                  "k": [
                    2,
                    3,
                    6,
                    7,
                    5,
                    4,
                    6,
                    5,
                    7,
                    6,
                    4,
                    7
                  ],
                  "name": "Chair",
                  "opacity": 0.7,
                  "type": "mesh3d",
                  "x": [
                    4.5,
                    5,
                    5,
                    4.5,
                    4.5,
                    5,
                    5,
                    4.5
                  ],
                  "y": [
                    0.8692120820776937,
                    0.8692120820776937,
                    1.3692120820776936,
                    1.3692120820776936,
                    0.8692120820776937,
                    0.8692120820776937,
                    1.3692120820776936,
                    1.3692120820776936
                  ],
                  "z": [
                    0,
                    0,
                    0,
                    0,
                    0.9,
                    0.9,
                    0.9,
                    0.9
                  ]
                },
                {
                  "mode": "text",
                  "name": "Chair Label",
                  "text": [
                    "Chair"
                  ],
                  "textfont": {
                    "color": "black",
                    "size": 10
                  },
                  "type": "scatter3d",
                  "x": [
                    4.75
                  ],
                  "y": [
                    1.1192120820776936
                  ],
                  "z": [
                    1
                  ]
                },
                {
                  "color": "#FFEAA7",
                  "i": [
                    0,
                    0,
                    4,
                    4,
                    0,
                    0,
                    1,
                    1,
                    2,
                    2,
                    3,
                    3
                  ],
                  "j": [
                    1,
                    2,
                    5,
                    6,
                    1,
                    5,
                    2,
                    6,
                    3,
                    7,
                    0,
                    4
                  ],
                  "k": [
                    2,
                    3,
                    6,
                    7,
                    5,
                    4,
                    6,
                    5,
                    7,
                    6,
                    4,
                    7
                  ],
                  "name": "Nightstand",
                  "opacity": 0.7,
                  "type": "mesh3d",
                  "x": [
                    0,
                    0.5,
                    0.5,
                    0,
                    0,
                    0.5,
                    0.5,
                    0
                  ],
                  "y": [
                    3.5,
                    3.5,
                    3.9,
                    3.9,
                    3.5,
                    3.5,
                    3.9,
                    3.9
                  ],
                  "z": [
                    0,
                    0,
                    0,
                    0,
                    0.6,
                    0.6,
                    0.6,
                    0.6
                  ]
                },
                {
                  "mode": "text",
                  "name": "Nightstand Label",
                  "text": [
                    "Nightstand"
                  ],
                  "textfont": {
                    "color": "black",
                    "size": 10
                  },
                  "type": "scatter3d",
                  "x": [
                    0.25
                  ],
                  "y": [
                    3.7
                  ],
                  "z": [
                    0.7
                  ]
                }
              ],
              "layout": {
                "height": 800,
                "margin": {
                  "b": 0,
                  "l": 0,
                  "r": 0,
                  "t": 50
                },
                "scene": {
                  "aspectmode": "data",
                  "camera": {
                    "eye": {
                      "x": 1.5,
                      "y": -1.5,
                      "z": 1
                    }
                  },
                  "xaxis": {
                    "title": {
                      "text": "X (width)"
                    }
                  },
                  "yaxis": {
                    "title": {
                      "text": "Y (depth)"
                    }
                  },
                  "zaxis": {
                    "title": {
                      "text": "Z (height)"
                    }
                  }
                },
                "template": {
                  "data": {
                    "bar": [
                      {
                        "error_x": {
                          "color": "#2a3f5f"
                        },
                        "error_y": {
                          "color": "#2a3f5f"
                        },
                        "marker": {
                          "line": {
                            "color": "#E5ECF6",
                            "width": 0.5
                          },
                          "pattern": {
                            "fillmode": "overlay",
                            "size": 10,
                            "solidity": 0.2
                          }
                        },
                        "type": "bar"
                      }
                    ],
                    "barpolar": [
                      {
                        "marker": {
                          "line": {
                            "color": "#E5ECF6",
                            "width": 0.5
                          },
                          "pattern": {
                            "fillmode": "overlay",
                            "size": 10,
                            "solidity": 0.2
                          }
                        },
                        "type": "barpolar"
                      }
                    ],
                    "carpet": [
                      {
                        "aaxis": {
                          "endlinecolor": "#2a3f5f",
                          "gridcolor": "white",
                          "linecolor": "white",
                          "minorgridcolor": "white",
                          "startlinecolor": "#2a3f5f"
                        },
                        "baxis": {
                          "endlinecolor": "#2a3f5f",
                          "gridcolor": "white",
                          "linecolor": "white",
                          "minorgridcolor": "white",
                          "startlinecolor": "#2a3f5f"
                        },
                        "type": "carpet"
                      }
                    ],
                    "choropleth": [
                      {
                        "colorbar": {
                          "outlinewidth": 0,
                          "ticks": ""
                        },
                        "type": "choropleth"
                      }
                    ],
                    "contour": [
                      {
                        "colorbar": {
                          "outlinewidth": 0,
                          "ticks": ""
                        },
                        "colorscale": [
                          [
                            0,
                            "#0d0887"
                          ],
                          [
                            0.1111111111111111,
                            "#46039f"
                          ],
                          [
                            0.2222222222222222,
                            "#7201a8"
                          ],
                          [
                            0.3333333333333333,
                            "#9c179e"
                          ],
                          [
                            0.4444444444444444,
                            "#bd3786"
                          ],
                          [
                            0.5555555555555556,
                            "#d8576b"
                          ],
                          [
                            0.6666666666666666,
                            "#ed7953"
                          ],
                          [
                            0.7777777777777778,
                            "#fb9f3a"
                          ],
                          [
                            0.8888888888888888,
                            "#fdca26"
                          ],
                          [
                            1,
                            "#f0f921"
                          ]
                        ],
                        "type": "contour"
                      }
                    ],
                    "contourcarpet": [
                      {
                        "colorbar": {
                          "outlinewidth": 0,
                          "ticks": ""
                        },
                        "type": "contourcarpet"
                      }
                    ],
                    "heatmap": [
                      {
                        "colorbar": {
                          "outlinewidth": 0,
                          "ticks": ""
                        },
                        "colorscale": [
                          [
                            0,
                            "#0d0887"
                          ],
                          [
                            0.1111111111111111,
                            "#46039f"
                          ],
                          [
                            0.2222222222222222,
                            "#7201a8"
                          ],
                          [
                            0.3333333333333333,
                            "#9c179e"
                          ],
                          [
                            0.4444444444444444,
                            "#bd3786"
                          ],
                          [
                            0.5555555555555556,
                            "#d8576b"
                          ],
                          [
                            0.6666666666666666,
                            "#ed7953"
                          ],
                          [
                            0.7777777777777778,
                            "#fb9f3a"
                          ],
                          [
                            0.8888888888888888,
                            "#fdca26"
                          ],
                          [
                            1,
                            "#f0f921"
                          ]
                        ],
                        "type": "heatmap"
                      }
                    ],
                    "histogram": [
                      {
                        "marker": {
                          "pattern": {
                            "fillmode": "overlay",
                            "size": 10,
                            "solidity": 0.2
                          }
                        },
                        "type": "histogram"
                      }
                    ],
                    "histogram2d": [
                      {
                        "colorbar": {
                          "outlinewidth": 0,
                          "ticks": ""
                        },
                        "colorscale": [
                          [
                            0,
                            "#0d0887"
                          ],
                          [
                            0.1111111111111111,
                            "#46039f"
                          ],
                          [
                            0.2222222222222222,
                            "#7201a8"
                          ],
                          [
                            0.3333333333333333,
                            "#9c179e"
                          ],
                          [
                            0.4444444444444444,
                            "#bd3786"
                          ],
                          [
                            0.5555555555555556,
                            "#d8576b"
                          ],
                          [
                            0.6666666666666666,
                            "#ed7953"
                          ],
                          [
                            0.7777777777777778,
                            "#fb9f3a"
                          ],
                          [
                            0.8888888888888888,
                            "#fdca26"
                          ],
                          [
                            1,
                            "#f0f921"
                          ]
                        ],
                        "type": "histogram2d"
                      }
                    ],
                    "histogram2dcontour": [
                      {
                        "colorbar": {
                          "outlinewidth": 0,
                          "ticks": ""
                        },
                        "colorscale": [
                          [
                            0,
                            "#0d0887"
                          ],
                          [
                            0.1111111111111111,
                            "#46039f"
                          ],
                          [
                            0.2222222222222222,
                            "#7201a8"
                          ],
                          [
                            0.3333333333333333,
                            "#9c179e"
                          ],
                          [
                            0.4444444444444444,
                            "#bd3786"
                          ],
                          [
                            0.5555555555555556,
                            "#d8576b"
                          ],
                          [
                            0.6666666666666666,
                            "#ed7953"
                          ],
                          [
                            0.7777777777777778,
                            "#fb9f3a"
                          ],
                          [
                            0.8888888888888888,
                            "#fdca26"
                          ],
                          [
                            1,
                            "#f0f921"
                          ]
                        ],
                        "type": "histogram2dcontour"
                      }
                    ],
                    "mesh3d": [
                      {
                        "colorbar": {
                          "outlinewidth": 0,
                          "ticks": ""
                        },
                        "type": "mesh3d"
                      }
                    ],
                    "parcoords": [
                      {
                        "line": {
                          "colorbar": {
                            "outlinewidth": 0,
                            "ticks": ""
                          }
                        },
                        "type": "parcoords"
                      }
                    ],
                    "pie": [
                      {
                        "automargin": true,
                        "type": "pie"
                      }
                    ],
                    "scatter": [
                      {
                        "fillpattern": {
                          "fillmode": "overlay",
                          "size": 10,
                          "solidity": 0.2
                        },
                        "type": "scatter"
                      }
                    ],
                    "scatter3d": [
                      {
                        "line": {
                          "colorbar": {
                            "outlinewidth": 0,
                            "ticks": ""
                          }
                        },
                        "marker": {
                          "colorbar": {
                            "outlinewidth": 0,
                            "ticks": ""
                          }
                        },
                        "type": "scatter3d"
                      }
                    ],
                    "scattercarpet": [
                      {
                        "marker": {
                          "colorbar": {
                            "outlinewidth": 0,
                            "ticks": ""
                          }
                        },
                        "type": "scattercarpet"
                      }
                    ],
                    "scattergeo": [
                      {
                        "marker": {
                          "colorbar": {
                            "outlinewidth": 0,
                            "ticks": ""
                          }
                        },
                        "type": "scattergeo"
                      }
                    ],
                    "scattergl": [
                      {
                        "marker": {
                          "colorbar": {
                            "outlinewidth": 0,
                            "ticks": ""
                          }
                        },
                        "type": "scattergl"
                      }
                    ],
                    "scattermap": [
                      {
                        "marker": {
                          "colorbar": {
                            "outlinewidth": 0,
                            "ticks": ""
                          }
                        },
                        "type": "scattermap"
                      }
                    ],
                    "scattermapbox": [
                      {
                        "marker": {
                          "colorbar": {
                            "outlinewidth": 0,
                            "ticks": ""
                          }
                        },
                        "type": "scattermapbox"
                      }
                    ],
                    "scatterpolar": [
                      {
                        "marker": {
                          "colorbar": {
                            "outlinewidth": 0,
                            "ticks": ""
                          }
                        },
                        "type": "scatterpolar"
                      }
                    ],
                    "scatterpolargl": [
                      {
                        "marker": {
                          "colorbar": {
                            "outlinewidth": 0,
                            "ticks": ""
                          }
                        },
                        "type": "scatterpolargl"
                      }
                    ],
                    "scatterternary": [
                      {
                        "marker": {
                          "colorbar": {
                            "outlinewidth": 0,
                            "ticks": ""
                          }
                        },
                        "type": "scatterternary"
                      }
                    ],
                    "surface": [
                      {
                        "colorbar": {
                          "outlinewidth": 0,
                          "ticks": ""
                        },
                        "colorscale": [
                          [
                            0,
                            "#0d0887"
                          ],
                          [
                            0.1111111111111111,
                            "#46039f"
                          ],
                          [
                            0.2222222222222222,
                            "#7201a8"
                          ],
                          [
                            0.3333333333333333,
                            "#9c179e"
                          ],
                          [
                            0.4444444444444444,
                            "#bd3786"
                          ],
                          [
                            0.5555555555555556,
                            "#d8576b"
                          ],
                          [
                            0.6666666666666666,
                            "#ed7953"
                          ],
                          [
                            0.7777777777777778,
                            "#fb9f3a"
                          ],
                          [
                            0.8888888888888888,
                            "#fdca26"
                          ],
                          [
                            1,
                            "#f0f921"
                          ]
                        ],
                        "type": "surface"
                      }
                    ],
                    "table": [
                      {
                        "cells": {
                          "fill": {
                            "color": "#EBF0F8"
                          },
                          "line": {
                            "color": "white"
                          }
                        },
                        "header": {
                          "fill": {
                            "color": "#C8D4E3"
                          },
                          "line": {
                            "color": "white"
                          }
                        },
                        "type": "table"
                      }
                    ]
                  },
                  "layout": {
                    "annotationdefaults": {
                      "arrowcolor": "#2a3f5f",
                      "arrowhead": 0,
                      "arrowwidth": 1
                    },
                    "autotypenumbers": "strict",
                    "coloraxis": {
                      "colorbar": {
                        "outlinewidth": 0,
                        "ticks": ""
                      }
                    },
                    "colorscale": {
                      "diverging": [
                        [
                          0,
                          "#8e0152"
                        ],
                        [
                          0.1,
                          "#c51b7d"
                        ],
                        [
                          0.2,
                          "#de77ae"
                        ],
                        [
                          0.3,
                          "#f1b6da"
                        ],
                        [
                          0.4,
                          "#fde0ef"
                        ],
                        [
                          0.5,
                          "#f7f7f7"
                        ],
                        [
                          0.6,
                          "#e6f5d0"
                        ],
                        [
                          0.7,
                          "#b8e186"
                        ],
                        [
                          0.8,
                          "#7fbc41"
                        ],
                        [
                          0.9,
                          "#4d9221"
                        ],
                        [
                          1,
                          "#276419"
                        ]
                      ],
                      "sequential": [
                        [
                          0,
                          "#0d0887"
                        ],
                        [
                          0.1111111111111111,
                          "#46039f"
                        ],
                        [
                          0.2222222222222222,
                          "#7201a8"
                        ],
                        [
                          0.3333333333333333,
                          "#9c179e"
                        ],
                        [
                          0.4444444444444444,
                          "#bd3786"
                        ],
                        [
                          0.5555555555555556,
                          "#d8576b"
                        ],
                        [
                          0.6666666666666666,
                          "#ed7953"
                        ],
                        [
                          0.7777777777777778,
                          "#fb9f3a"
                        ],
                        [
                          0.8888888888888888,
                          "#fdca26"
                        ],
                        [
                          1,
                          "#f0f921"
                        ]
                      ],
                      "sequentialminus": [
                        [
                          0,
                          "#0d0887"
                        ],
                        [
                          0.1111111111111111,
                          "#46039f"
                        ],
                        [
                          0.2222222222222222,
                          "#7201a8"
                        ],
                        [
                          0.3333333333333333,
                          "#9c179e"
                        ],
                        [
                          0.4444444444444444,
                          "#bd3786"
                        ],
                        [
                          0.5555555555555556,
                          "#d8576b"
                        ],
                        [
                          0.6666666666666666,
                          "#ed7953"
                        ],
                        [
                          0.7777777777777778,
                          "#fb9f3a"
                        ],
                        [
                          0.8888888888888888,
                          "#fdca26"
                        ],
                        [
                          1,
                          "#f0f921"
                        ]
                      ]
                    },
                    "colorway": [
                      "#636efa",
                      "#EF553B",
                      "#00cc96",
                      "#ab63fa",
                      "#FFA15A",
                      "#19d3f3",
                      "#FF6692",
                      "#B6E880",
                      "#FF97FF",
                      "#FECB52"
                    ],
                    "font": {
                      "color": "#2a3f5f"
                    },
                    "geo": {
                      "bgcolor": "white",
                      "lakecolor": "white",
                      "landcolor": "#E5ECF6",
                      "showlakes": true,
                      "showland": true,
                      "subunitcolor": "white"
                    },
                    "hoverlabel": {
                      "align": "left"
                    },
                    "hovermode": "closest",
                    "mapbox": {
                      "style": "light"
                    },
                    "paper_bgcolor": "white",
                    "plot_bgcolor": "#E5ECF6",
                    "polar": {
                      "angularaxis": {
                        "gridcolor": "white",
                        "linecolor": "white",
                        "ticks": ""
                      },
                      "bgcolor": "#E5ECF6",
                      "radialaxis": {
                        "gridcolor": "white",
                        "linecolor": "white",
                        "ticks": ""
                      }
                    },
                    "scene": {
                      "xaxis": {
                        "backgroundcolor": "#E5ECF6",
                        "gridcolor": "white",
                        "gridwidth": 2,
                        "linecolor": "white",
                        "showbackground": true,
                        "ticks": "",
                        "zerolinecolor": "white"
                      },
                      "yaxis": {
                        "backgroundcolor": "#E5ECF6",
                        "gridcolor": "white",
                        "gridwidth": 2,
                        "linecolor": "white",
                        "showbackground": true,
                        "ticks": "",
                        "zerolinecolor": "white"
                      },
                      "zaxis": {
                        "backgroundcolor": "#E5ECF6",
                        "gridcolor": "white",
                        "gridwidth": 2,
                        "linecolor": "white",
                        "showbackground": true,
                        "ticks": "",
                        "zerolinecolor": "white"
                      }
                    },
                    "shapedefaults": {
                      "line": {
                        "color": "#2a3f5f"
                      }
                    },
                    "ternary": {
                      "aaxis": {
                        "gridcolor": "white",
                        "linecolor": "white",
                        "ticks": ""
                      },
                      "baxis": {
                        "gridcolor": "white",
                        "linecolor": "white",
                        "ticks": ""
                      },
                      "bgcolor": "#E5ECF6",
                      "caxis": {
                        "gridcolor": "white",
                        "linecolor": "white",
                        "ticks": ""
                      }
                    },
                    "title": {
                      "x": 0.05
                    },
                    "xaxis": {
                      "automargin": true,
                      "gridcolor": "white",
                      "linecolor": "white",
                      "ticks": "",
                      "title": {
                        "standoff": 15
                      },
                      "zerolinecolor": "white",
                      "zerolinewidth": 2
                    },
                    "yaxis": {
                      "automargin": true,
                      "gridcolor": "white",
                      "linecolor": "white",
                      "ticks": "",
                      "title": {
                        "standoff": 15
                      },
                      "zerolinecolor": "white",
                      "zerolinewidth": 2
                    }
                  }
                },
                "title": {
                  "text": "Pelican - Best Solution (3D)<br>Walkable Area: 0.0% | Fitness: 0.922"
                }
              }
            }
          },
          "metadata": {},
          "output_type": "display_data"
        },
        {
          "data": {
            "application/vnd.plotly.v1+json": {
              "config": {
                "plotlyServerURL": "https://plot.ly"
              },
              "data": [
                {
                  "color": "lightgray",
                  "i": [
                    0,
                    0
                  ],
                  "j": [
                    1,
                    2
                  ],
                  "k": [
                    2,
                    3
                  ],
                  "name": "Floor",
                  "opacity": 0.3,
                  "type": "mesh3d",
                  "x": [
                    0,
                    0,
                    5,
                    5
                  ],
                  "y": [
                    0,
                    4,
                    4,
                    0
                  ],
                  "z": [
                    0,
                    0,
                    0,
                    0
                  ]
                },
                {
                  "color": "lightblue",
                  "i": [
                    0,
                    0
                  ],
                  "j": [
                    1,
                    2
                  ],
                  "k": [
                    2,
                    3
                  ],
                  "name": "South Wall",
                  "opacity": 0.2,
                  "type": "mesh3d",
                  "x": [
                    0,
                    0,
                    5,
                    5
                  ],
                  "y": [
                    0,
                    0,
                    0,
                    0
                  ],
                  "z": [
                    0,
                    2.5,
                    2.5,
                    0
                  ]
                },
                {
                  "color": "lightgreen",
                  "i": [
                    0,
                    0
                  ],
                  "j": [
                    1,
                    2
                  ],
                  "k": [
                    2,
                    3
                  ],
                  "name": "East Wall",
                  "opacity": 0.2,
                  "type": "mesh3d",
                  "x": [
                    5,
                    5,
                    5,
                    5
                  ],
                  "y": [
                    0,
                    4,
                    4,
                    0
                  ],
                  "z": [
                    0,
                    0,
                    2.5,
                    2.5
                  ]
                },
                {
                  "color": "lightblue",
                  "i": [
                    0,
                    0
                  ],
                  "j": [
                    1,
                    2
                  ],
                  "k": [
                    2,
                    3
                  ],
                  "name": "North Wall",
                  "opacity": 0.2,
                  "type": "mesh3d",
                  "x": [
                    0,
                    0,
                    5,
                    5
                  ],
                  "y": [
                    4,
                    4,
                    4,
                    4
                  ],
                  "z": [
                    0,
                    2.5,
                    2.5,
                    0
                  ]
                },
                {
                  "color": "lightgreen",
                  "i": [
                    0,
                    0
                  ],
                  "j": [
                    1,
                    2
                  ],
                  "k": [
                    2,
                    3
                  ],
                  "name": "West Wall",
                  "opacity": 0.2,
                  "type": "mesh3d",
                  "x": [
                    0,
                    0,
                    0,
                    0
                  ],
                  "y": [
                    0,
                    4,
                    4,
                    0
                  ],
                  "z": [
                    0,
                    0,
                    2.5,
                    2.5
                  ]
                },
                {
                  "color": "brown",
                  "i": [
                    0,
                    0
                  ],
                  "j": [
                    1,
                    2
                  ],
                  "k": [
                    2,
                    3
                  ],
                  "name": "Door: Door",
                  "opacity": 0.7,
                  "type": "mesh3d",
                  "x": [
                    2,
                    2.9,
                    2.9,
                    2
                  ],
                  "y": [
                    0,
                    0,
                    0,
                    0
                  ],
                  "z": [
                    0,
                    0,
                    2,
                    2
                  ]
                },
                {
                  "color": "skyblue",
                  "i": [
                    0,
                    0
                  ],
                  "j": [
                    1,
                    2
                  ],
                  "k": [
                    2,
                    3
                  ],
                  "name": "Window: Window",
                  "opacity": 0.7,
                  "type": "mesh3d",
                  "x": [
                    1,
                    2.5,
                    2.5,
                    1
                  ],
                  "y": [
                    4,
                    4,
                    4,
                    4
                  ],
                  "z": [
                    1,
                    1,
                    3,
                    3
                  ]
                },
                {
                  "color": "skyblue",
                  "i": [
                    0,
                    0
                  ],
                  "j": [
                    1,
                    2
                  ],
                  "k": [
                    2,
                    3
                  ],
                  "name": "Window: Window",
                  "opacity": 0.7,
                  "type": "mesh3d",
                  "x": [
                    5,
                    5,
                    5,
                    5
                  ],
                  "y": [
                    1.5,
                    2.5,
                    2.5,
                    1.5
                  ],
                  "z": [
                    1,
                    1,
                    3,
                    3
                  ]
                },
                {
                  "color": "#FF6B6B",
                  "i": [
                    0,
                    0,
                    4,
                    4,
                    0,
                    0,
                    1,
                    1,
                    2,
                    2,
                    3,
                    3
                  ],
                  "j": [
                    1,
                    2,
                    5,
                    6,
                    1,
                    5,
                    2,
                    6,
                    3,
                    7,
                    0,
                    4
                  ],
                  "k": [
                    2,
                    3,
                    6,
                    7,
                    5,
                    4,
                    6,
                    5,
                    7,
                    6,
                    4,
                    7
                  ],
                  "name": "Double Bed",
                  "opacity": 0.7,
                  "type": "mesh3d",
                  "x": [
                    2.2054489734344327,
                    4.205448973434432,
                    4.205448973434432,
                    2.2054489734344327,
                    2.2054489734344327,
                    4.205448973434432,
                    4.205448973434432,
                    2.2054489734344327
                  ],
                  "y": [
                    0.9593958126946562,
                    0.9593958126946562,
                    2.5593958126946563,
                    2.5593958126946563,
                    0.9593958126946562,
                    0.9593958126946562,
                    2.5593958126946563,
                    2.5593958126946563
                  ],
                  "z": [
                    0,
                    0,
                    0,
                    0,
                    0.6,
                    0.6,
                    0.6,
                    0.6
                  ]
                },
                {
                  "mode": "text",
                  "name": "Double Bed Label",
                  "text": [
                    "Double Bed"
                  ],
                  "textfont": {
                    "color": "black",
                    "size": 10
                  },
                  "type": "scatter3d",
                  "x": [
                    3.2054489734344327
                  ],
                  "y": [
                    1.7593958126946563
                  ],
                  "z": [
                    0.7
                  ]
                },
                {
                  "color": "#4ECDC4",
                  "i": [
                    0,
                    0,
                    4,
                    4,
                    0,
                    0,
                    1,
                    1,
                    2,
                    2,
                    3,
                    3
                  ],
                  "j": [
                    1,
                    2,
                    5,
                    6,
                    1,
                    5,
                    2,
                    6,
                    3,
                    7,
                    0,
                    4
                  ],
                  "k": [
                    2,
                    3,
                    6,
                    7,
                    5,
                    4,
                    6,
                    5,
                    7,
                    6,
                    4,
                    7
                  ],
                  "name": "Wardrobe",
                  "opacity": 0.7,
                  "type": "mesh3d",
                  "x": [
                    0,
                    1.2,
                    1.2,
                    0,
                    0,
                    1.2,
                    1.2,
                    0
                  ],
                  "y": [
                    2.351530840304207,
                    2.351530840304207,
                    2.951530840304207,
                    2.951530840304207,
                    2.351530840304207,
                    2.351530840304207,
                    2.951530840304207,
                    2.951530840304207
                  ],
                  "z": [
                    0,
                    0,
                    0,
                    0,
                    2.2,
                    2.2,
                    2.2,
                    2.2
                  ]
                },
                {
                  "mode": "text",
                  "name": "Wardrobe Label",
                  "text": [
                    "Wardrobe"
                  ],
                  "textfont": {
                    "color": "black",
                    "size": 10
                  },
                  "type": "scatter3d",
                  "x": [
                    0.6
                  ],
                  "y": [
                    2.651530840304207
                  ],
                  "z": [
                    2.3000000000000003
                  ]
                },
                {
                  "color": "#45B7D1",
                  "i": [
                    0,
                    0,
                    4,
                    4,
                    0,
                    0,
                    1,
                    1,
                    2,
                    2,
                    3,
                    3
                  ],
                  "j": [
                    1,
                    2,
                    5,
                    6,
                    1,
                    5,
                    2,
                    6,
                    3,
                    7,
                    0,
                    4
                  ],
                  "k": [
                    2,
                    3,
                    6,
                    7,
                    5,
                    4,
                    6,
                    5,
                    7,
                    6,
                    4,
                    7
                  ],
                  "name": "Desk",
                  "opacity": 0.7,
                  "type": "mesh3d",
                  "x": [
                    0,
                    1.2,
                    1.2,
                    0,
                    0,
                    1.2,
                    1.2,
                    0
                  ],
                  "y": [
                    0,
                    0,
                    0.6,
                    0.6,
                    0,
                    0,
                    0.6,
                    0.6
                  ],
                  "z": [
                    0,
                    0,
                    0,
                    0,
                    0.75,
                    0.75,
                    0.75,
                    0.75
                  ]
                },
                {
                  "mode": "text",
                  "name": "Desk Label",
                  "text": [
                    "Desk"
                  ],
                  "textfont": {
                    "color": "black",
                    "size": 10
                  },
                  "type": "scatter3d",
                  "x": [
                    0.6
                  ],
                  "y": [
                    0.3
                  ],
                  "z": [
                    0.85
                  ]
                },
                {
                  "color": "#96CEB4",
                  "i": [
                    0,
                    0,
                    4,
                    4,
                    0,
                    0,
                    1,
                    1,
                    2,
                    2,
                    3,
                    3
                  ],
                  "j": [
                    1,
                    2,
                    5,
                    6,
                    1,
                    5,
                    2,
                    6,
                    3,
                    7,
                    0,
                    4
                  ],
                  "k": [
                    2,
                    3,
                    6,
                    7,
                    5,
                    4,
                    6,
                    5,
                    7,
                    6,
                    4,
                    7
                  ],
                  "name": "Chair",
                  "opacity": 0.7,
                  "type": "mesh3d",
                  "x": [
                    0.5772489786743797,
                    1.0772489786743797,
                    1.0772489786743797,
                    0.5772489786743797,
                    0.5772489786743797,
                    1.0772489786743797,
                    1.0772489786743797,
                    0.5772489786743797
                  ],
                  "y": [
                    0.8725611987054326,
                    0.8725611987054326,
                    1.3725611987054327,
                    1.3725611987054327,
                    0.8725611987054326,
                    0.8725611987054326,
                    1.3725611987054327,
                    1.3725611987054327
                  ],
                  "z": [
                    0,
                    0,
                    0,
                    0,
                    0.9,
                    0.9,
                    0.9,
                    0.9
                  ]
                },
                {
                  "mode": "text",
                  "name": "Chair Label",
                  "text": [
                    "Chair"
                  ],
                  "textfont": {
                    "color": "black",
                    "size": 10
                  },
                  "type": "scatter3d",
                  "x": [
                    0.8272489786743797
                  ],
                  "y": [
                    1.1225611987054327
                  ],
                  "z": [
                    1
                  ]
                },
                {
                  "color": "#FFEAA7",
                  "i": [
                    0,
                    0,
                    4,
                    4,
                    0,
                    0,
                    1,
                    1,
                    2,
                    2,
                    3,
                    3
                  ],
                  "j": [
                    1,
                    2,
                    5,
                    6,
                    1,
                    5,
                    2,
                    6,
                    3,
                    7,
                    0,
                    4
                  ],
                  "k": [
                    2,
                    3,
                    6,
                    7,
                    5,
                    4,
                    6,
                    5,
                    7,
                    6,
                    4,
                    7
                  ],
                  "name": "Nightstand",
                  "opacity": 0.7,
                  "type": "mesh3d",
                  "x": [
                    3.829229226217933,
                    4.329229226217933,
                    4.329229226217933,
                    3.829229226217933,
                    3.829229226217933,
                    4.329229226217933,
                    4.329229226217933,
                    3.829229226217933
                  ],
                  "y": [
                    2.3412533773366224,
                    2.3412533773366224,
                    2.7412533773366223,
                    2.7412533773366223,
                    2.3412533773366224,
                    2.3412533773366224,
                    2.7412533773366223,
                    2.7412533773366223
                  ],
                  "z": [
                    0,
                    0,
                    0,
                    0,
                    0.6,
                    0.6,
                    0.6,
                    0.6
                  ]
                },
                {
                  "mode": "text",
                  "name": "Nightstand Label",
                  "text": [
                    "Nightstand"
                  ],
                  "textfont": {
                    "color": "black",
                    "size": 10
                  },
                  "type": "scatter3d",
                  "x": [
                    4.079229226217933
                  ],
                  "y": [
                    2.5412533773366226
                  ],
                  "z": [
                    0.7
                  ]
                }
              ],
              "layout": {
                "height": 800,
                "margin": {
                  "b": 0,
                  "l": 0,
                  "r": 0,
                  "t": 50
                },
                "scene": {
                  "aspectmode": "data",
                  "camera": {
                    "eye": {
                      "x": 1.5,
                      "y": -1.5,
                      "z": 1
                    }
                  },
                  "xaxis": {
                    "title": {
                      "text": "X (width)"
                    }
                  },
                  "yaxis": {
                    "title": {
                      "text": "Y (depth)"
                    }
                  },
                  "zaxis": {
                    "title": {
                      "text": "Z (height)"
                    }
                  }
                },
                "template": {
                  "data": {
                    "bar": [
                      {
                        "error_x": {
                          "color": "#2a3f5f"
                        },
                        "error_y": {
                          "color": "#2a3f5f"
                        },
                        "marker": {
                          "line": {
                            "color": "#E5ECF6",
                            "width": 0.5
                          },
                          "pattern": {
                            "fillmode": "overlay",
                            "size": 10,
                            "solidity": 0.2
                          }
                        },
                        "type": "bar"
                      }
                    ],
                    "barpolar": [
                      {
                        "marker": {
                          "line": {
                            "color": "#E5ECF6",
                            "width": 0.5
                          },
                          "pattern": {
                            "fillmode": "overlay",
                            "size": 10,
                            "solidity": 0.2
                          }
                        },
                        "type": "barpolar"
                      }
                    ],
                    "carpet": [
                      {
                        "aaxis": {
                          "endlinecolor": "#2a3f5f",
                          "gridcolor": "white",
                          "linecolor": "white",
                          "minorgridcolor": "white",
                          "startlinecolor": "#2a3f5f"
                        },
                        "baxis": {
                          "endlinecolor": "#2a3f5f",
                          "gridcolor": "white",
                          "linecolor": "white",
                          "minorgridcolor": "white",
                          "startlinecolor": "#2a3f5f"
                        },
                        "type": "carpet"
                      }
                    ],
                    "choropleth": [
                      {
                        "colorbar": {
                          "outlinewidth": 0,
                          "ticks": ""
                        },
                        "type": "choropleth"
                      }
                    ],
                    "contour": [
                      {
                        "colorbar": {
                          "outlinewidth": 0,
                          "ticks": ""
                        },
                        "colorscale": [
                          [
                            0,
                            "#0d0887"
                          ],
                          [
                            0.1111111111111111,
                            "#46039f"
                          ],
                          [
                            0.2222222222222222,
                            "#7201a8"
                          ],
                          [
                            0.3333333333333333,
                            "#9c179e"
                          ],
                          [
                            0.4444444444444444,
                            "#bd3786"
                          ],
                          [
                            0.5555555555555556,
                            "#d8576b"
                          ],
                          [
                            0.6666666666666666,
                            "#ed7953"
                          ],
                          [
                            0.7777777777777778,
                            "#fb9f3a"
                          ],
                          [
                            0.8888888888888888,
                            "#fdca26"
                          ],
                          [
                            1,
                            "#f0f921"
                          ]
                        ],
                        "type": "contour"
                      }
                    ],
                    "contourcarpet": [
                      {
                        "colorbar": {
                          "outlinewidth": 0,
                          "ticks": ""
                        },
                        "type": "contourcarpet"
                      }
                    ],
                    "heatmap": [
                      {
                        "colorbar": {
                          "outlinewidth": 0,
                          "ticks": ""
                        },
                        "colorscale": [
                          [
                            0,
                            "#0d0887"
                          ],
                          [
                            0.1111111111111111,
                            "#46039f"
                          ],
                          [
                            0.2222222222222222,
                            "#7201a8"
                          ],
                          [
                            0.3333333333333333,
                            "#9c179e"
                          ],
                          [
                            0.4444444444444444,
                            "#bd3786"
                          ],
                          [
                            0.5555555555555556,
                            "#d8576b"
                          ],
                          [
                            0.6666666666666666,
                            "#ed7953"
                          ],
                          [
                            0.7777777777777778,
                            "#fb9f3a"
                          ],
                          [
                            0.8888888888888888,
                            "#fdca26"
                          ],
                          [
                            1,
                            "#f0f921"
                          ]
                        ],
                        "type": "heatmap"
                      }
                    ],
                    "histogram": [
                      {
                        "marker": {
                          "pattern": {
                            "fillmode": "overlay",
                            "size": 10,
                            "solidity": 0.2
                          }
                        },
                        "type": "histogram"
                      }
                    ],
                    "histogram2d": [
                      {
                        "colorbar": {
                          "outlinewidth": 0,
                          "ticks": ""
                        },
                        "colorscale": [
                          [
                            0,
                            "#0d0887"
                          ],
                          [
                            0.1111111111111111,
                            "#46039f"
                          ],
                          [
                            0.2222222222222222,
                            "#7201a8"
                          ],
                          [
                            0.3333333333333333,
                            "#9c179e"
                          ],
                          [
                            0.4444444444444444,
                            "#bd3786"
                          ],
                          [
                            0.5555555555555556,
                            "#d8576b"
                          ],
                          [
                            0.6666666666666666,
                            "#ed7953"
                          ],
                          [
                            0.7777777777777778,
                            "#fb9f3a"
                          ],
                          [
                            0.8888888888888888,
                            "#fdca26"
                          ],
                          [
                            1,
                            "#f0f921"
                          ]
                        ],
                        "type": "histogram2d"
                      }
                    ],
                    "histogram2dcontour": [
                      {
                        "colorbar": {
                          "outlinewidth": 0,
                          "ticks": ""
                        },
                        "colorscale": [
                          [
                            0,
                            "#0d0887"
                          ],
                          [
                            0.1111111111111111,
                            "#46039f"
                          ],
                          [
                            0.2222222222222222,
                            "#7201a8"
                          ],
                          [
                            0.3333333333333333,
                            "#9c179e"
                          ],
                          [
                            0.4444444444444444,
                            "#bd3786"
                          ],
                          [
                            0.5555555555555556,
                            "#d8576b"
                          ],
                          [
                            0.6666666666666666,
                            "#ed7953"
                          ],
                          [
                            0.7777777777777778,
                            "#fb9f3a"
                          ],
                          [
                            0.8888888888888888,
                            "#fdca26"
                          ],
                          [
                            1,
                            "#f0f921"
                          ]
                        ],
                        "type": "histogram2dcontour"
                      }
                    ],
                    "mesh3d": [
                      {
                        "colorbar": {
                          "outlinewidth": 0,
                          "ticks": ""
                        },
                        "type": "mesh3d"
                      }
                    ],
                    "parcoords": [
                      {
                        "line": {
                          "colorbar": {
                            "outlinewidth": 0,
                            "ticks": ""
                          }
                        },
                        "type": "parcoords"
                      }
                    ],
                    "pie": [
                      {
                        "automargin": true,
                        "type": "pie"
                      }
                    ],
                    "scatter": [
                      {
                        "fillpattern": {
                          "fillmode": "overlay",
                          "size": 10,
                          "solidity": 0.2
                        },
                        "type": "scatter"
                      }
                    ],
                    "scatter3d": [
                      {
                        "line": {
                          "colorbar": {
                            "outlinewidth": 0,
                            "ticks": ""
                          }
                        },
                        "marker": {
                          "colorbar": {
                            "outlinewidth": 0,
                            "ticks": ""
                          }
                        },
                        "type": "scatter3d"
                      }
                    ],
                    "scattercarpet": [
                      {
                        "marker": {
                          "colorbar": {
                            "outlinewidth": 0,
                            "ticks": ""
                          }
                        },
                        "type": "scattercarpet"
                      }
                    ],
                    "scattergeo": [
                      {
                        "marker": {
                          "colorbar": {
                            "outlinewidth": 0,
                            "ticks": ""
                          }
                        },
                        "type": "scattergeo"
                      }
                    ],
                    "scattergl": [
                      {
                        "marker": {
                          "colorbar": {
                            "outlinewidth": 0,
                            "ticks": ""
                          }
                        },
                        "type": "scattergl"
                      }
                    ],
                    "scattermap": [
                      {
                        "marker": {
                          "colorbar": {
                            "outlinewidth": 0,
                            "ticks": ""
                          }
                        },
                        "type": "scattermap"
                      }
                    ],
                    "scattermapbox": [
                      {
                        "marker": {
                          "colorbar": {
                            "outlinewidth": 0,
                            "ticks": ""
                          }
                        },
                        "type": "scattermapbox"
                      }
                    ],
                    "scatterpolar": [
                      {
                        "marker": {
                          "colorbar": {
                            "outlinewidth": 0,
                            "ticks": ""
                          }
                        },
                        "type": "scatterpolar"
                      }
                    ],
                    "scatterpolargl": [
                      {
                        "marker": {
                          "colorbar": {
                            "outlinewidth": 0,
                            "ticks": ""
                          }
                        },
                        "type": "scatterpolargl"
                      }
                    ],
                    "scatterternary": [
                      {
                        "marker": {
                          "colorbar": {
                            "outlinewidth": 0,
                            "ticks": ""
                          }
                        },
                        "type": "scatterternary"
                      }
                    ],
                    "surface": [
                      {
                        "colorbar": {
                          "outlinewidth": 0,
                          "ticks": ""
                        },
                        "colorscale": [
                          [
                            0,
                            "#0d0887"
                          ],
                          [
                            0.1111111111111111,
                            "#46039f"
                          ],
                          [
                            0.2222222222222222,
                            "#7201a8"
                          ],
                          [
                            0.3333333333333333,
                            "#9c179e"
                          ],
                          [
                            0.4444444444444444,
                            "#bd3786"
                          ],
                          [
                            0.5555555555555556,
                            "#d8576b"
                          ],
                          [
                            0.6666666666666666,
                            "#ed7953"
                          ],
                          [
                            0.7777777777777778,
                            "#fb9f3a"
                          ],
                          [
                            0.8888888888888888,
                            "#fdca26"
                          ],
                          [
                            1,
                            "#f0f921"
                          ]
                        ],
                        "type": "surface"
                      }
                    ],
                    "table": [
                      {
                        "cells": {
                          "fill": {
                            "color": "#EBF0F8"
                          },
                          "line": {
                            "color": "white"
                          }
                        },
                        "header": {
                          "fill": {
                            "color": "#C8D4E3"
                          },
                          "line": {
                            "color": "white"
                          }
                        },
                        "type": "table"
                      }
                    ]
                  },
                  "layout": {
                    "annotationdefaults": {
                      "arrowcolor": "#2a3f5f",
                      "arrowhead": 0,
                      "arrowwidth": 1
                    },
                    "autotypenumbers": "strict",
                    "coloraxis": {
                      "colorbar": {
                        "outlinewidth": 0,
                        "ticks": ""
                      }
                    },
                    "colorscale": {
                      "diverging": [
                        [
                          0,
                          "#8e0152"
                        ],
                        [
                          0.1,
                          "#c51b7d"
                        ],
                        [
                          0.2,
                          "#de77ae"
                        ],
                        [
                          0.3,
                          "#f1b6da"
                        ],
                        [
                          0.4,
                          "#fde0ef"
                        ],
                        [
                          0.5,
                          "#f7f7f7"
                        ],
                        [
                          0.6,
                          "#e6f5d0"
                        ],
                        [
                          0.7,
                          "#b8e186"
                        ],
                        [
                          0.8,
                          "#7fbc41"
                        ],
                        [
                          0.9,
                          "#4d9221"
                        ],
                        [
                          1,
                          "#276419"
                        ]
                      ],
                      "sequential": [
                        [
                          0,
                          "#0d0887"
                        ],
                        [
                          0.1111111111111111,
                          "#46039f"
                        ],
                        [
                          0.2222222222222222,
                          "#7201a8"
                        ],
                        [
                          0.3333333333333333,
                          "#9c179e"
                        ],
                        [
                          0.4444444444444444,
                          "#bd3786"
                        ],
                        [
                          0.5555555555555556,
                          "#d8576b"
                        ],
                        [
                          0.6666666666666666,
                          "#ed7953"
                        ],
                        [
                          0.7777777777777778,
                          "#fb9f3a"
                        ],
                        [
                          0.8888888888888888,
                          "#fdca26"
                        ],
                        [
                          1,
                          "#f0f921"
                        ]
                      ],
                      "sequentialminus": [
                        [
                          0,
                          "#0d0887"
                        ],
                        [
                          0.1111111111111111,
                          "#46039f"
                        ],
                        [
                          0.2222222222222222,
                          "#7201a8"
                        ],
                        [
                          0.3333333333333333,
                          "#9c179e"
                        ],
                        [
                          0.4444444444444444,
                          "#bd3786"
                        ],
                        [
                          0.5555555555555556,
                          "#d8576b"
                        ],
                        [
                          0.6666666666666666,
                          "#ed7953"
                        ],
                        [
                          0.7777777777777778,
                          "#fb9f3a"
                        ],
                        [
                          0.8888888888888888,
                          "#fdca26"
                        ],
                        [
                          1,
                          "#f0f921"
                        ]
                      ]
                    },
                    "colorway": [
                      "#636efa",
                      "#EF553B",
                      "#00cc96",
                      "#ab63fa",
                      "#FFA15A",
                      "#19d3f3",
                      "#FF6692",
                      "#B6E880",
                      "#FF97FF",
                      "#FECB52"
                    ],
                    "font": {
                      "color": "#2a3f5f"
                    },
                    "geo": {
                      "bgcolor": "white",
                      "lakecolor": "white",
                      "landcolor": "#E5ECF6",
                      "showlakes": true,
                      "showland": true,
                      "subunitcolor": "white"
                    },
                    "hoverlabel": {
                      "align": "left"
                    },
                    "hovermode": "closest",
                    "mapbox": {
                      "style": "light"
                    },
                    "paper_bgcolor": "white",
                    "plot_bgcolor": "#E5ECF6",
                    "polar": {
                      "angularaxis": {
                        "gridcolor": "white",
                        "linecolor": "white",
                        "ticks": ""
                      },
                      "bgcolor": "#E5ECF6",
                      "radialaxis": {
                        "gridcolor": "white",
                        "linecolor": "white",
                        "ticks": ""
                      }
                    },
                    "scene": {
                      "xaxis": {
                        "backgroundcolor": "#E5ECF6",
                        "gridcolor": "white",
                        "gridwidth": 2,
                        "linecolor": "white",
                        "showbackground": true,
                        "ticks": "",
                        "zerolinecolor": "white"
                      },
                      "yaxis": {
                        "backgroundcolor": "#E5ECF6",
                        "gridcolor": "white",
                        "gridwidth": 2,
                        "linecolor": "white",
                        "showbackground": true,
                        "ticks": "",
                        "zerolinecolor": "white"
                      },
                      "zaxis": {
                        "backgroundcolor": "#E5ECF6",
                        "gridcolor": "white",
                        "gridwidth": 2,
                        "linecolor": "white",
                        "showbackground": true,
                        "ticks": "",
                        "zerolinecolor": "white"
                      }
                    },
                    "shapedefaults": {
                      "line": {
                        "color": "#2a3f5f"
                      }
                    },
                    "ternary": {
                      "aaxis": {
                        "gridcolor": "white",
                        "linecolor": "white",
                        "ticks": ""
                      },
                      "baxis": {
                        "gridcolor": "white",
                        "linecolor": "white",
                        "ticks": ""
                      },
                      "bgcolor": "#E5ECF6",
                      "caxis": {
                        "gridcolor": "white",
                        "linecolor": "white",
                        "ticks": ""
                      }
                    },
                    "title": {
                      "x": 0.05
                    },
                    "xaxis": {
                      "automargin": true,
                      "gridcolor": "white",
                      "linecolor": "white",
                      "ticks": "",
                      "title": {
                        "standoff": 15
                      },
                      "zerolinecolor": "white",
                      "zerolinewidth": 2
                    },
                    "yaxis": {
                      "automargin": true,
                      "gridcolor": "white",
                      "linecolor": "white",
                      "ticks": "",
                      "title": {
                        "standoff": 15
                      },
                      "zerolinecolor": "white",
                      "zerolinewidth": 2
                    }
                  }
                },
                "title": {
                  "text": "Genetic - Best Solution (3D)<br>Walkable Area: 0.0% | Fitness: 0.906"
                }
              }
            }
          },
          "metadata": {},
          "output_type": "display_data"
        },
        {
          "data": {
            "application/vnd.plotly.v1+json": {
              "config": {
                "plotlyServerURL": "https://plot.ly"
              },
              "data": [
                {
                  "color": "lightgray",
                  "i": [
                    0,
                    0
                  ],
                  "j": [
                    1,
                    2
                  ],
                  "k": [
                    2,
                    3
                  ],
                  "name": "Floor",
                  "opacity": 0.3,
                  "type": "mesh3d",
                  "x": [
                    0,
                    0,
                    5,
                    5
                  ],
                  "y": [
                    0,
                    4,
                    4,
                    0
                  ],
                  "z": [
                    0,
                    0,
                    0,
                    0
                  ]
                },
                {
                  "color": "lightblue",
                  "i": [
                    0,
                    0
                  ],
                  "j": [
                    1,
                    2
                  ],
                  "k": [
                    2,
                    3
                  ],
                  "name": "South Wall",
                  "opacity": 0.2,
                  "type": "mesh3d",
                  "x": [
                    0,
                    0,
                    5,
                    5
                  ],
                  "y": [
                    0,
                    0,
                    0,
                    0
                  ],
                  "z": [
                    0,
                    2.5,
                    2.5,
                    0
                  ]
                },
                {
                  "color": "lightgreen",
                  "i": [
                    0,
                    0
                  ],
                  "j": [
                    1,
                    2
                  ],
                  "k": [
                    2,
                    3
                  ],
                  "name": "East Wall",
                  "opacity": 0.2,
                  "type": "mesh3d",
                  "x": [
                    5,
                    5,
                    5,
                    5
                  ],
                  "y": [
                    0,
                    4,
                    4,
                    0
                  ],
                  "z": [
                    0,
                    0,
                    2.5,
                    2.5
                  ]
                },
                {
                  "color": "lightblue",
                  "i": [
                    0,
                    0
                  ],
                  "j": [
                    1,
                    2
                  ],
                  "k": [
                    2,
                    3
                  ],
                  "name": "North Wall",
                  "opacity": 0.2,
                  "type": "mesh3d",
                  "x": [
                    0,
                    0,
                    5,
                    5
                  ],
                  "y": [
                    4,
                    4,
                    4,
                    4
                  ],
                  "z": [
                    0,
                    2.5,
                    2.5,
                    0
                  ]
                },
                {
                  "color": "lightgreen",
                  "i": [
                    0,
                    0
                  ],
                  "j": [
                    1,
                    2
                  ],
                  "k": [
                    2,
                    3
                  ],
                  "name": "West Wall",
                  "opacity": 0.2,
                  "type": "mesh3d",
                  "x": [
                    0,
                    0,
                    0,
                    0
                  ],
                  "y": [
                    0,
                    4,
                    4,
                    0
                  ],
                  "z": [
                    0,
                    0,
                    2.5,
                    2.5
                  ]
                },
                {
                  "color": "brown",
                  "i": [
                    0,
                    0
                  ],
                  "j": [
                    1,
                    2
                  ],
                  "k": [
                    2,
                    3
                  ],
                  "name": "Door: Door",
                  "opacity": 0.7,
                  "type": "mesh3d",
                  "x": [
                    2,
                    2.9,
                    2.9,
                    2
                  ],
                  "y": [
                    0,
                    0,
                    0,
                    0
                  ],
                  "z": [
                    0,
                    0,
                    2,
                    2
                  ]
                },
                {
                  "color": "skyblue",
                  "i": [
                    0,
                    0
                  ],
                  "j": [
                    1,
                    2
                  ],
                  "k": [
                    2,
                    3
                  ],
                  "name": "Window: Window",
                  "opacity": 0.7,
                  "type": "mesh3d",
                  "x": [
                    1,
                    2.5,
                    2.5,
                    1
                  ],
                  "y": [
                    4,
                    4,
                    4,
                    4
                  ],
                  "z": [
                    1,
                    1,
                    3,
                    3
                  ]
                },
                {
                  "color": "skyblue",
                  "i": [
                    0,
                    0
                  ],
                  "j": [
                    1,
                    2
                  ],
                  "k": [
                    2,
                    3
                  ],
                  "name": "Window: Window",
                  "opacity": 0.7,
                  "type": "mesh3d",
                  "x": [
                    5,
                    5,
                    5,
                    5
                  ],
                  "y": [
                    1.5,
                    2.5,
                    2.5,
                    1.5
                  ],
                  "z": [
                    1,
                    1,
                    3,
                    3
                  ]
                },
                {
                  "color": "#FF6B6B",
                  "i": [
                    0,
                    0,
                    4,
                    4,
                    0,
                    0,
                    1,
                    1,
                    2,
                    2,
                    3,
                    3
                  ],
                  "j": [
                    1,
                    2,
                    5,
                    6,
                    1,
                    5,
                    2,
                    6,
                    3,
                    7,
                    0,
                    4
                  ],
                  "k": [
                    2,
                    3,
                    6,
                    7,
                    5,
                    4,
                    6,
                    5,
                    7,
                    6,
                    4,
                    7
                  ],
                  "name": "Double Bed",
                  "opacity": 0.7,
                  "type": "mesh3d",
                  "x": [
                    0,
                    2,
                    2,
                    0,
                    0,
                    2,
                    2,
                    0
                  ],
                  "y": [
                    0.8992208824214973,
                    0.8992208824214973,
                    2.4992208824214974,
                    2.4992208824214974,
                    0.8992208824214973,
                    0.8992208824214973,
                    2.4992208824214974,
                    2.4992208824214974
                  ],
                  "z": [
                    0,
                    0,
                    0,
                    0,
                    0.6,
                    0.6,
                    0.6,
                    0.6
                  ]
                },
                {
                  "mode": "text",
                  "name": "Double Bed Label",
                  "text": [
                    "Double Bed"
                  ],
                  "textfont": {
                    "color": "black",
                    "size": 10
                  },
                  "type": "scatter3d",
                  "x": [
                    1
                  ],
                  "y": [
                    1.6992208824214974
                  ],
                  "z": [
                    0.7
                  ]
                },
                {
                  "color": "#4ECDC4",
                  "i": [
                    0,
                    0,
                    4,
                    4,
                    0,
                    0,
                    1,
                    1,
                    2,
                    2,
                    3,
                    3
                  ],
                  "j": [
                    1,
                    2,
                    5,
                    6,
                    1,
                    5,
                    2,
                    6,
                    3,
                    7,
                    0,
                    4
                  ],
                  "k": [
                    2,
                    3,
                    6,
                    7,
                    5,
                    4,
                    6,
                    5,
                    7,
                    6,
                    4,
                    7
                  ],
                  "name": "Wardrobe",
                  "opacity": 0.7,
                  "type": "mesh3d",
                  "x": [
                    2.5994302113918057,
                    3.7994302113918055,
                    3.7994302113918055,
                    2.5994302113918057,
                    2.5994302113918057,
                    3.7994302113918055,
                    3.7994302113918055,
                    2.5994302113918057
                  ],
                  "y": [
                    1.0127014513035124,
                    1.0127014513035124,
                    1.6127014513035123,
                    1.6127014513035123,
                    1.0127014513035124,
                    1.0127014513035124,
                    1.6127014513035123,
                    1.6127014513035123
                  ],
                  "z": [
                    0,
                    0,
                    0,
                    0,
                    2.2,
                    2.2,
                    2.2,
                    2.2
                  ]
                },
                {
                  "mode": "text",
                  "name": "Wardrobe Label",
                  "text": [
                    "Wardrobe"
                  ],
                  "textfont": {
                    "color": "black",
                    "size": 10
                  },
                  "type": "scatter3d",
                  "x": [
                    3.199430211391806
                  ],
                  "y": [
                    1.3127014513035125
                  ],
                  "z": [
                    2.3000000000000003
                  ]
                },
                {
                  "color": "#45B7D1",
                  "i": [
                    0,
                    0,
                    4,
                    4,
                    0,
                    0,
                    1,
                    1,
                    2,
                    2,
                    3,
                    3
                  ],
                  "j": [
                    1,
                    2,
                    5,
                    6,
                    1,
                    5,
                    2,
                    6,
                    3,
                    7,
                    0,
                    4
                  ],
                  "k": [
                    2,
                    3,
                    6,
                    7,
                    5,
                    4,
                    6,
                    5,
                    7,
                    6,
                    4,
                    7
                  ],
                  "name": "Desk",
                  "opacity": 0.7,
                  "type": "mesh3d",
                  "x": [
                    2.723151303545396,
                    3.9231513035453958,
                    3.9231513035453958,
                    2.723151303545396,
                    2.723151303545396,
                    3.9231513035453958,
                    3.9231513035453958,
                    2.723151303545396
                  ],
                  "y": [
                    3.2989925219256198,
                    3.2989925219256198,
                    3.89899252192562,
                    3.89899252192562,
                    3.2989925219256198,
                    3.2989925219256198,
                    3.89899252192562,
                    3.89899252192562
                  ],
                  "z": [
                    0,
                    0,
                    0,
                    0,
                    0.75,
                    0.75,
                    0.75,
                    0.75
                  ]
                },
                {
                  "mode": "text",
                  "name": "Desk Label",
                  "text": [
                    "Desk"
                  ],
                  "textfont": {
                    "color": "black",
                    "size": 10
                  },
                  "type": "scatter3d",
                  "x": [
                    3.323151303545396
                  ],
                  "y": [
                    3.5989925219256196
                  ],
                  "z": [
                    0.85
                  ]
                },
                {
                  "color": "#96CEB4",
                  "i": [
                    0,
                    0,
                    4,
                    4,
                    0,
                    0,
                    1,
                    1,
                    2,
                    2,
                    3,
                    3
                  ],
                  "j": [
                    1,
                    2,
                    5,
                    6,
                    1,
                    5,
                    2,
                    6,
                    3,
                    7,
                    0,
                    4
                  ],
                  "k": [
                    2,
                    3,
                    6,
                    7,
                    5,
                    4,
                    6,
                    5,
                    7,
                    6,
                    4,
                    7
                  ],
                  "name": "Chair",
                  "opacity": 0.7,
                  "type": "mesh3d",
                  "x": [
                    3.688686049794199,
                    4.1886860497942,
                    4.1886860497942,
                    3.688686049794199,
                    3.688686049794199,
                    4.1886860497942,
                    4.1886860497942,
                    3.688686049794199
                  ],
                  "y": [
                    2.7360854452446093,
                    2.7360854452446093,
                    3.2360854452446093,
                    3.2360854452446093,
                    2.7360854452446093,
                    2.7360854452446093,
                    3.2360854452446093,
                    3.2360854452446093
                  ],
                  "z": [
                    0,
                    0,
                    0,
                    0,
                    0.9,
                    0.9,
                    0.9,
                    0.9
                  ]
                },
                {
                  "mode": "text",
                  "name": "Chair Label",
                  "text": [
                    "Chair"
                  ],
                  "textfont": {
                    "color": "black",
                    "size": 10
                  },
                  "type": "scatter3d",
                  "x": [
                    3.938686049794199
                  ],
                  "y": [
                    2.9860854452446093
                  ],
                  "z": [
                    1
                  ]
                },
                {
                  "color": "#FFEAA7",
                  "i": [
                    0,
                    0,
                    4,
                    4,
                    0,
                    0,
                    1,
                    1,
                    2,
                    2,
                    3,
                    3
                  ],
                  "j": [
                    1,
                    2,
                    5,
                    6,
                    1,
                    5,
                    2,
                    6,
                    3,
                    7,
                    0,
                    4
                  ],
                  "k": [
                    2,
                    3,
                    6,
                    7,
                    5,
                    4,
                    6,
                    5,
                    7,
                    6,
                    4,
                    7
                  ],
                  "name": "Nightstand",
                  "opacity": 0.7,
                  "type": "mesh3d",
                  "x": [
                    0.9241941553450377,
                    1.4241941553450377,
                    1.4241941553450377,
                    0.9241941553450377,
                    0.9241941553450377,
                    1.4241941553450377,
                    1.4241941553450377,
                    0.9241941553450377
                  ],
                  "y": [
                    0.4180153314935373,
                    0.4180153314935373,
                    0.8180153314935373,
                    0.8180153314935373,
                    0.4180153314935373,
                    0.4180153314935373,
                    0.8180153314935373,
                    0.8180153314935373
                  ],
                  "z": [
                    0,
                    0,
                    0,
                    0,
                    0.6,
                    0.6,
                    0.6,
                    0.6
                  ]
                },
                {
                  "mode": "text",
                  "name": "Nightstand Label",
                  "text": [
                    "Nightstand"
                  ],
                  "textfont": {
                    "color": "black",
                    "size": 10
                  },
                  "type": "scatter3d",
                  "x": [
                    1.1741941553450377
                  ],
                  "y": [
                    0.6180153314935373
                  ],
                  "z": [
                    0.7
                  ]
                }
              ],
              "layout": {
                "height": 800,
                "margin": {
                  "b": 0,
                  "l": 0,
                  "r": 0,
                  "t": 50
                },
                "scene": {
                  "aspectmode": "data",
                  "camera": {
                    "eye": {
                      "x": 1.5,
                      "y": -1.5,
                      "z": 1
                    }
                  },
                  "xaxis": {
                    "title": {
                      "text": "X (width)"
                    }
                  },
                  "yaxis": {
                    "title": {
                      "text": "Y (depth)"
                    }
                  },
                  "zaxis": {
                    "title": {
                      "text": "Z (height)"
                    }
                  }
                },
                "template": {
                  "data": {
                    "bar": [
                      {
                        "error_x": {
                          "color": "#2a3f5f"
                        },
                        "error_y": {
                          "color": "#2a3f5f"
                        },
                        "marker": {
                          "line": {
                            "color": "#E5ECF6",
                            "width": 0.5
                          },
                          "pattern": {
                            "fillmode": "overlay",
                            "size": 10,
                            "solidity": 0.2
                          }
                        },
                        "type": "bar"
                      }
                    ],
                    "barpolar": [
                      {
                        "marker": {
                          "line": {
                            "color": "#E5ECF6",
                            "width": 0.5
                          },
                          "pattern": {
                            "fillmode": "overlay",
                            "size": 10,
                            "solidity": 0.2
                          }
                        },
                        "type": "barpolar"
                      }
                    ],
                    "carpet": [
                      {
                        "aaxis": {
                          "endlinecolor": "#2a3f5f",
                          "gridcolor": "white",
                          "linecolor": "white",
                          "minorgridcolor": "white",
                          "startlinecolor": "#2a3f5f"
                        },
                        "baxis": {
                          "endlinecolor": "#2a3f5f",
                          "gridcolor": "white",
                          "linecolor": "white",
                          "minorgridcolor": "white",
                          "startlinecolor": "#2a3f5f"
                        },
                        "type": "carpet"
                      }
                    ],
                    "choropleth": [
                      {
                        "colorbar": {
                          "outlinewidth": 0,
                          "ticks": ""
                        },
                        "type": "choropleth"
                      }
                    ],
                    "contour": [
                      {
                        "colorbar": {
                          "outlinewidth": 0,
                          "ticks": ""
                        },
                        "colorscale": [
                          [
                            0,
                            "#0d0887"
                          ],
                          [
                            0.1111111111111111,
                            "#46039f"
                          ],
                          [
                            0.2222222222222222,
                            "#7201a8"
                          ],
                          [
                            0.3333333333333333,
                            "#9c179e"
                          ],
                          [
                            0.4444444444444444,
                            "#bd3786"
                          ],
                          [
                            0.5555555555555556,
                            "#d8576b"
                          ],
                          [
                            0.6666666666666666,
                            "#ed7953"
                          ],
                          [
                            0.7777777777777778,
                            "#fb9f3a"
                          ],
                          [
                            0.8888888888888888,
                            "#fdca26"
                          ],
                          [
                            1,
                            "#f0f921"
                          ]
                        ],
                        "type": "contour"
                      }
                    ],
                    "contourcarpet": [
                      {
                        "colorbar": {
                          "outlinewidth": 0,
                          "ticks": ""
                        },
                        "type": "contourcarpet"
                      }
                    ],
                    "heatmap": [
                      {
                        "colorbar": {
                          "outlinewidth": 0,
                          "ticks": ""
                        },
                        "colorscale": [
                          [
                            0,
                            "#0d0887"
                          ],
                          [
                            0.1111111111111111,
                            "#46039f"
                          ],
                          [
                            0.2222222222222222,
                            "#7201a8"
                          ],
                          [
                            0.3333333333333333,
                            "#9c179e"
                          ],
                          [
                            0.4444444444444444,
                            "#bd3786"
                          ],
                          [
                            0.5555555555555556,
                            "#d8576b"
                          ],
                          [
                            0.6666666666666666,
                            "#ed7953"
                          ],
                          [
                            0.7777777777777778,
                            "#fb9f3a"
                          ],
                          [
                            0.8888888888888888,
                            "#fdca26"
                          ],
                          [
                            1,
                            "#f0f921"
                          ]
                        ],
                        "type": "heatmap"
                      }
                    ],
                    "histogram": [
                      {
                        "marker": {
                          "pattern": {
                            "fillmode": "overlay",
                            "size": 10,
                            "solidity": 0.2
                          }
                        },
                        "type": "histogram"
                      }
                    ],
                    "histogram2d": [
                      {
                        "colorbar": {
                          "outlinewidth": 0,
                          "ticks": ""
                        },
                        "colorscale": [
                          [
                            0,
                            "#0d0887"
                          ],
                          [
                            0.1111111111111111,
                            "#46039f"
                          ],
                          [
                            0.2222222222222222,
                            "#7201a8"
                          ],
                          [
                            0.3333333333333333,
                            "#9c179e"
                          ],
                          [
                            0.4444444444444444,
                            "#bd3786"
                          ],
                          [
                            0.5555555555555556,
                            "#d8576b"
                          ],
                          [
                            0.6666666666666666,
                            "#ed7953"
                          ],
                          [
                            0.7777777777777778,
                            "#fb9f3a"
                          ],
                          [
                            0.8888888888888888,
                            "#fdca26"
                          ],
                          [
                            1,
                            "#f0f921"
                          ]
                        ],
                        "type": "histogram2d"
                      }
                    ],
                    "histogram2dcontour": [
                      {
                        "colorbar": {
                          "outlinewidth": 0,
                          "ticks": ""
                        },
                        "colorscale": [
                          [
                            0,
                            "#0d0887"
                          ],
                          [
                            0.1111111111111111,
                            "#46039f"
                          ],
                          [
                            0.2222222222222222,
                            "#7201a8"
                          ],
                          [
                            0.3333333333333333,
                            "#9c179e"
                          ],
                          [
                            0.4444444444444444,
                            "#bd3786"
                          ],
                          [
                            0.5555555555555556,
                            "#d8576b"
                          ],
                          [
                            0.6666666666666666,
                            "#ed7953"
                          ],
                          [
                            0.7777777777777778,
                            "#fb9f3a"
                          ],
                          [
                            0.8888888888888888,
                            "#fdca26"
                          ],
                          [
                            1,
                            "#f0f921"
                          ]
                        ],
                        "type": "histogram2dcontour"
                      }
                    ],
                    "mesh3d": [
                      {
                        "colorbar": {
                          "outlinewidth": 0,
                          "ticks": ""
                        },
                        "type": "mesh3d"
                      }
                    ],
                    "parcoords": [
                      {
                        "line": {
                          "colorbar": {
                            "outlinewidth": 0,
                            "ticks": ""
                          }
                        },
                        "type": "parcoords"
                      }
                    ],
                    "pie": [
                      {
                        "automargin": true,
                        "type": "pie"
                      }
                    ],
                    "scatter": [
                      {
                        "fillpattern": {
                          "fillmode": "overlay",
                          "size": 10,
                          "solidity": 0.2
                        },
                        "type": "scatter"
                      }
                    ],
                    "scatter3d": [
                      {
                        "line": {
                          "colorbar": {
                            "outlinewidth": 0,
                            "ticks": ""
                          }
                        },
                        "marker": {
                          "colorbar": {
                            "outlinewidth": 0,
                            "ticks": ""
                          }
                        },
                        "type": "scatter3d"
                      }
                    ],
                    "scattercarpet": [
                      {
                        "marker": {
                          "colorbar": {
                            "outlinewidth": 0,
                            "ticks": ""
                          }
                        },
                        "type": "scattercarpet"
                      }
                    ],
                    "scattergeo": [
                      {
                        "marker": {
                          "colorbar": {
                            "outlinewidth": 0,
                            "ticks": ""
                          }
                        },
                        "type": "scattergeo"
                      }
                    ],
                    "scattergl": [
                      {
                        "marker": {
                          "colorbar": {
                            "outlinewidth": 0,
                            "ticks": ""
                          }
                        },
                        "type": "scattergl"
                      }
                    ],
                    "scattermap": [
                      {
                        "marker": {
                          "colorbar": {
                            "outlinewidth": 0,
                            "ticks": ""
                          }
                        },
                        "type": "scattermap"
                      }
                    ],
                    "scattermapbox": [
                      {
                        "marker": {
                          "colorbar": {
                            "outlinewidth": 0,
                            "ticks": ""
                          }
                        },
                        "type": "scattermapbox"
                      }
                    ],
                    "scatterpolar": [
                      {
                        "marker": {
                          "colorbar": {
                            "outlinewidth": 0,
                            "ticks": ""
                          }
                        },
                        "type": "scatterpolar"
                      }
                    ],
                    "scatterpolargl": [
                      {
                        "marker": {
                          "colorbar": {
                            "outlinewidth": 0,
                            "ticks": ""
                          }
                        },
                        "type": "scatterpolargl"
                      }
                    ],
                    "scatterternary": [
                      {
                        "marker": {
                          "colorbar": {
                            "outlinewidth": 0,
                            "ticks": ""
                          }
                        },
                        "type": "scatterternary"
                      }
                    ],
                    "surface": [
                      {
                        "colorbar": {
                          "outlinewidth": 0,
                          "ticks": ""
                        },
                        "colorscale": [
                          [
                            0,
                            "#0d0887"
                          ],
                          [
                            0.1111111111111111,
                            "#46039f"
                          ],
                          [
                            0.2222222222222222,
                            "#7201a8"
                          ],
                          [
                            0.3333333333333333,
                            "#9c179e"
                          ],
                          [
                            0.4444444444444444,
                            "#bd3786"
                          ],
                          [
                            0.5555555555555556,
                            "#d8576b"
                          ],
                          [
                            0.6666666666666666,
                            "#ed7953"
                          ],
                          [
                            0.7777777777777778,
                            "#fb9f3a"
                          ],
                          [
                            0.8888888888888888,
                            "#fdca26"
                          ],
                          [
                            1,
                            "#f0f921"
                          ]
                        ],
                        "type": "surface"
                      }
                    ],
                    "table": [
                      {
                        "cells": {
                          "fill": {
                            "color": "#EBF0F8"
                          },
                          "line": {
                            "color": "white"
                          }
                        },
                        "header": {
                          "fill": {
                            "color": "#C8D4E3"
                          },
                          "line": {
                            "color": "white"
                          }
                        },
                        "type": "table"
                      }
                    ]
                  },
                  "layout": {
                    "annotationdefaults": {
                      "arrowcolor": "#2a3f5f",
                      "arrowhead": 0,
                      "arrowwidth": 1
                    },
                    "autotypenumbers": "strict",
                    "coloraxis": {
                      "colorbar": {
                        "outlinewidth": 0,
                        "ticks": ""
                      }
                    },
                    "colorscale": {
                      "diverging": [
                        [
                          0,
                          "#8e0152"
                        ],
                        [
                          0.1,
                          "#c51b7d"
                        ],
                        [
                          0.2,
                          "#de77ae"
                        ],
                        [
                          0.3,
                          "#f1b6da"
                        ],
                        [
                          0.4,
                          "#fde0ef"
                        ],
                        [
                          0.5,
                          "#f7f7f7"
                        ],
                        [
                          0.6,
                          "#e6f5d0"
                        ],
                        [
                          0.7,
                          "#b8e186"
                        ],
                        [
                          0.8,
                          "#7fbc41"
                        ],
                        [
                          0.9,
                          "#4d9221"
                        ],
                        [
                          1,
                          "#276419"
                        ]
                      ],
                      "sequential": [
                        [
                          0,
                          "#0d0887"
                        ],
                        [
                          0.1111111111111111,
                          "#46039f"
                        ],
                        [
                          0.2222222222222222,
                          "#7201a8"
                        ],
                        [
                          0.3333333333333333,
                          "#9c179e"
                        ],
                        [
                          0.4444444444444444,
                          "#bd3786"
                        ],
                        [
                          0.5555555555555556,
                          "#d8576b"
                        ],
                        [
                          0.6666666666666666,
                          "#ed7953"
                        ],
                        [
                          0.7777777777777778,
                          "#fb9f3a"
                        ],
                        [
                          0.8888888888888888,
                          "#fdca26"
                        ],
                        [
                          1,
                          "#f0f921"
                        ]
                      ],
                      "sequentialminus": [
                        [
                          0,
                          "#0d0887"
                        ],
                        [
                          0.1111111111111111,
                          "#46039f"
                        ],
                        [
                          0.2222222222222222,
                          "#7201a8"
                        ],
                        [
                          0.3333333333333333,
                          "#9c179e"
                        ],
                        [
                          0.4444444444444444,
                          "#bd3786"
                        ],
                        [
                          0.5555555555555556,
                          "#d8576b"
                        ],
                        [
                          0.6666666666666666,
                          "#ed7953"
                        ],
                        [
                          0.7777777777777778,
                          "#fb9f3a"
                        ],
                        [
                          0.8888888888888888,
                          "#fdca26"
                        ],
                        [
                          1,
                          "#f0f921"
                        ]
                      ]
                    },
                    "colorway": [
                      "#636efa",
                      "#EF553B",
                      "#00cc96",
                      "#ab63fa",
                      "#FFA15A",
                      "#19d3f3",
                      "#FF6692",
                      "#B6E880",
                      "#FF97FF",
                      "#FECB52"
                    ],
                    "font": {
                      "color": "#2a3f5f"
                    },
                    "geo": {
                      "bgcolor": "white",
                      "lakecolor": "white",
                      "landcolor": "#E5ECF6",
                      "showlakes": true,
                      "showland": true,
                      "subunitcolor": "white"
                    },
                    "hoverlabel": {
                      "align": "left"
                    },
                    "hovermode": "closest",
                    "mapbox": {
                      "style": "light"
                    },
                    "paper_bgcolor": "white",
                    "plot_bgcolor": "#E5ECF6",
                    "polar": {
                      "angularaxis": {
                        "gridcolor": "white",
                        "linecolor": "white",
                        "ticks": ""
                      },
                      "bgcolor": "#E5ECF6",
                      "radialaxis": {
                        "gridcolor": "white",
                        "linecolor": "white",
                        "ticks": ""
                      }
                    },
                    "scene": {
                      "xaxis": {
                        "backgroundcolor": "#E5ECF6",
                        "gridcolor": "white",
                        "gridwidth": 2,
                        "linecolor": "white",
                        "showbackground": true,
                        "ticks": "",
                        "zerolinecolor": "white"
                      },
                      "yaxis": {
                        "backgroundcolor": "#E5ECF6",
                        "gridcolor": "white",
                        "gridwidth": 2,
                        "linecolor": "white",
                        "showbackground": true,
                        "ticks": "",
                        "zerolinecolor": "white"
                      },
                      "zaxis": {
                        "backgroundcolor": "#E5ECF6",
                        "gridcolor": "white",
                        "gridwidth": 2,
                        "linecolor": "white",
                        "showbackground": true,
                        "ticks": "",
                        "zerolinecolor": "white"
                      }
                    },
                    "shapedefaults": {
                      "line": {
                        "color": "#2a3f5f"
                      }
                    },
                    "ternary": {
                      "aaxis": {
                        "gridcolor": "white",
                        "linecolor": "white",
                        "ticks": ""
                      },
                      "baxis": {
                        "gridcolor": "white",
                        "linecolor": "white",
                        "ticks": ""
                      },
                      "bgcolor": "#E5ECF6",
                      "caxis": {
                        "gridcolor": "white",
                        "linecolor": "white",
                        "ticks": ""
                      }
                    },
                    "title": {
                      "x": 0.05
                    },
                    "xaxis": {
                      "automargin": true,
                      "gridcolor": "white",
                      "linecolor": "white",
                      "ticks": "",
                      "title": {
                        "standoff": 15
                      },
                      "zerolinecolor": "white",
                      "zerolinewidth": 2
                    },
                    "yaxis": {
                      "automargin": true,
                      "gridcolor": "white",
                      "linecolor": "white",
                      "ticks": "",
                      "title": {
                        "standoff": 15
                      },
                      "zerolinecolor": "white",
                      "zerolinewidth": 2
                    }
                  }
                },
                "title": {
                  "text": "PSO - Best Solution (3D)<br>Walkable Area: 0.0% | Fitness: 0.903"
                }
              }
            }
          },
          "metadata": {},
          "output_type": "display_data"
        }
      ],
      "source": [
        "import numpy as np\n",
        "import matplotlib.pyplot as plt\n",
        "import matplotlib.patches as patches\n",
        "from matplotlib.animation import FuncAnimation\n",
        "import random\n",
        "from dataclasses import dataclass\n",
        "from typing import List, Tuple, Dict, Any\n",
        "from enum import Enum\n",
        "import time\n",
        "from abc import ABC, abstractmethod\n",
        "import pandas as pd\n",
        "import seaborn as sns\n",
        "from scipy import stats\n",
        "from mpl_toolkits.mplot3d import Axes3D\n",
        "from mpl_toolkits.mplot3d.art3d import Poly3DCollection\n",
        "import plotly.graph_objects as go\n",
        "import plotly.express as px\n",
        "from plotly.subplots import make_subplots\n",
        "import json\n",
        "\n",
        "class ObstacleType(Enum):\n",
        "    FULL_BLOCKING = \"full_blocking\"\n",
        "    PARTIAL_BLOCKING = \"partial_blocking\"\n",
        "\n",
        "class WallFeatureType(Enum):\n",
        "    DOOR = \"door\"\n",
        "    WINDOW = \"window\"\n",
        "\n",
        "@dataclass\n",
        "class WallFeature:\n",
        "    \"\"\"Represents doors and windows on room walls\"\"\"\n",
        "    name: str\n",
        "    feature_type: WallFeatureType\n",
        "    wall: str # 'north', 'south', 'east', 'west'\n",
        "    position: float # Position along the wall (0 to wall_length)\n",
        "    width: float\n",
        "    height: float = 2.0 # Default height for doors/windows\n",
        "    clearance_required: float = 0.8 # Minimum clearance needed in front\n",
        "\n",
        "@dataclass\n",
        "class Obstacle:\n",
        "    \"\"\"Represents a furniture item or obstacle in the room\"\"\"\n",
        "    name: str\n",
        "    width: float\n",
        "    height: float\n",
        "    obstacle_type: ObstacleType\n",
        "    depth: float = 0.5 # Added depth for 3D visualization\n",
        "    can_stack: bool = False\n",
        "    stackable_on: List[str] = None\n",
        "    min_wall_clearance: float = 0.1 # Minimum distance from walls\n",
        "    preferred_wall_distance: float = 0.3 # Preferred distance from walls\n",
        "\n",
        "    def __post_init__(self):\n",
        "        if self.stackable_on is None:\n",
        "            self.stackable_on = []\n",
        "\n",
        "def set_random_seed(seed=42):\n",
        "    \"\"\"Set random seeds for all random number generators used\"\"\"\n",
        "    random.seed(seed)\n",
        "    np.random.seed(seed)\n",
        "    # If you use other libraries with randomness, set their seeds here too\n",
        "\n",
        "class Solution:\n",
        "    \"\"\"Base class for representing a furniture arrangement solution\"\"\"\n",
        "    def __init__(self, obstacles: List[Obstacle], room_width: float, room_height: float,\n",
        "             wall_features: List[WallFeature] = None):\n",
        "      self.obstacles = obstacles\n",
        "      self.room_width = room_width\n",
        "      self.room_height = room_height\n",
        "      self.wall_features = wall_features or []\n",
        "      self.num_obstacles = len(obstacles)\n",
        "      # Position: [x1, y1, rot1, x2, y2, rot2, ...]\n",
        "      self.position = np.zeros(self.num_obstacles * 3)\n",
        "      self.fitness = 0.0\n",
        "      self.walkable_percentage = 0.0  # Initialize walkable percentage\n",
        "      self._initialize_smart_positions()\n",
        "\n",
        "    def _initialize_smart_positions(self):\n",
        "        \"\"\"Initialize positions with non-overlapping heuristic considering doors/windows\"\"\"\n",
        "        placed_rects = []\n",
        "        # Create exclusion zones around doors for clearance\n",
        "        door_exclusion_zones = []\n",
        "        for feature in self.wall_features:\n",
        "            if feature.feature_type == WallFeatureType.DOOR:\n",
        "                exclusion_zone = self._get_door_exclusion_zone(feature)\n",
        "                door_exclusion_zones.append(exclusion_zone)\n",
        "\n",
        "        for i in range(self.num_obstacles):\n",
        "            obstacle = self.obstacles[i]\n",
        "            attempts = 0\n",
        "            max_attempts = 150\n",
        "            while attempts < max_attempts:\n",
        "                rotation = random.choice([0, 1, 2, 3]) # 0, 90, 180, 270 degrees\n",
        "                if rotation in [1, 3]:\n",
        "                    w, h = obstacle.height, obstacle.width\n",
        "                else:\n",
        "                    w, h = obstacle.width, obstacle.height\n",
        "\n",
        "                # Ensure minimum clearance from walls\n",
        "                x = random.uniform(obstacle.min_wall_clearance,\n",
        "                                   max(obstacle.min_wall_clearance, self.room_width - w - obstacle.min_wall_clearance))\n",
        "                y = random.uniform(obstacle.min_wall_clearance,\n",
        "                                   max(obstacle.min_wall_clearance, self.room_height - h - obstacle.min_wall_clearance))\n",
        "\n",
        "                new_rect = (x, y, x + w, y + h)\n",
        "\n",
        "                # Check for overlaps with existing furniture\n",
        "                overlap = False\n",
        "                for rect in placed_rects:\n",
        "                    if self._rectangles_overlap(new_rect, rect):\n",
        "                        overlap = True\n",
        "                        break\n",
        "\n",
        "                # Check for conflicts with door exclusion zones\n",
        "                if not overlap:\n",
        "                    for exclusion_zone in door_exclusion_zones:\n",
        "                        if self._rectangles_overlap(new_rect, exclusion_zone):\n",
        "                            overlap = True\n",
        "                            break\n",
        "\n",
        "                if not overlap:\n",
        "                    placed_rects.append(new_rect)\n",
        "                    idx = i * 3\n",
        "                    self.position[idx] = x\n",
        "                    self.position[idx + 1] = y\n",
        "                    self.position[idx + 2] = rotation\n",
        "                    break\n",
        "\n",
        "                attempts += 1\n",
        "\n",
        "            if attempts >= max_attempts:\n",
        "                # Fallback placement\n",
        "                rotation = random.choice([0, 1, 2, 3])\n",
        "                if rotation in [1, 3]:\n",
        "                    w, h = obstacle.height, obstacle.width\n",
        "                else:\n",
        "                    w, h = obstacle.width, obstacle.height\n",
        "\n",
        "                x = random.uniform(0, max(0.1, self.room_width - w))\n",
        "                y = random.uniform(0, max(0.1, self.room_height - h))\n",
        "                idx = i * 3\n",
        "                self.position[idx] = x\n",
        "                self.position[idx + 1] = y\n",
        "                self.position[idx + 2] = rotation\n",
        "    def _get_window_exclusion_zone(self, window: WallFeature) -> Tuple[float, float, float, float]:\n",
        "      \"\"\"Calculate exclusion zone in front of a window\"\"\"\n",
        "      window_depth = 0.5  # How far the window exclusion zone extends into the room\n",
        "\n",
        "      if window.wall == 'north': # Top wall\n",
        "          return (window.position, self.room_height - window_depth,\n",
        "                  window.position + window.width, self.room_height)\n",
        "      elif window.wall == 'south': # Bottom wall\n",
        "          return (window.position, 0,\n",
        "                  window.position + window.width, window_depth)\n",
        "      elif window.wall == 'east': # Right wall\n",
        "          return (self.room_width - window_depth, window.position,\n",
        "                  self.room_width, window.position + window.width)\n",
        "      elif window.wall == 'west': # Left wall\n",
        "          return (0, window.position,\n",
        "                  window_depth, window.position + window.width)\n",
        "\n",
        "    def _get_door_exclusion_zone(self, door: WallFeature) -> Tuple[float, float, float, float]:\n",
        "        \"\"\"Calculate exclusion zone in front of a door\"\"\"\n",
        "        clearance = door.clearance_required\n",
        "        if door.wall == 'north': # Top wall\n",
        "            return (door.position - clearance/2, self.room_height - clearance,\n",
        "                    door.position + door.width + clearance/2, self.room_height)\n",
        "        elif door.wall == 'south': # Bottom wall\n",
        "            return (door.position - clearance/2, 0,\n",
        "                    door.position + door.width + clearance/2, clearance)\n",
        "        elif door.wall == 'east': # Right wall\n",
        "            return (self.room_width - clearance, door.position - clearance/2,\n",
        "                    self.room_width, door.position + door.width + clearance/2)\n",
        "        elif door.wall == 'west': # Left wall\n",
        "            return (0, door.position - clearance/2,\n",
        "                    clearance, door.position + door.width + clearance/2)\n",
        "\n",
        "    def _rectangles_overlap(self, rect1, rect2):\n",
        "        \"\"\"Check if two rectangles overlap\"\"\"\n",
        "        x1_min, y1_min, x1_max, y1_max = rect1\n",
        "        x2_min, y2_min, x2_max, y2_max = rect2\n",
        "        return not (x1_max <= x2_min or x2_max <= x1_min or\n",
        "                    y1_max <= y2_min or y2_max <= y1_min)\n",
        "\n",
        "    def get_obstacle_positions(self) -> List[Tuple[float, float, int]]:\n",
        "        \"\"\"Extract obstacle positions and rotations from solution\"\"\"\n",
        "        positions = []\n",
        "        for i in range(0, len(self.position), 3):\n",
        "            x = self.position[i]\n",
        "            y = self.position[i + 1]\n",
        "            rotation = int(self.position[i + 2]) % 4 * 90\n",
        "            positions.append((x, y, rotation))\n",
        "        return positions\n",
        "\n",
        "    def calculate_fitness(self) -> float:\n",
        "      \"\"\"Enhanced fitness calculation with furniture arrangement constraints\"\"\"\n",
        "      positions = self.get_obstacle_positions()\n",
        "      grid_size = 0.1\n",
        "      grid_width = int(np.ceil(self.room_width / grid_size))\n",
        "      grid_height = int(np.ceil(self.room_height / grid_size))\n",
        "      occupancy_grid = np.zeros((grid_height, grid_width))\n",
        "\n",
        "      penalty = 0.0\n",
        "      rectangles = []\n",
        "\n",
        "      # Process furniture positions\n",
        "      for i, (x, y, rotation) in enumerate(positions):\n",
        "          obstacle = self.obstacles[i]\n",
        "          if rotation in [90, 270]:\n",
        "              w, h = obstacle.height, obstacle.width\n",
        "          else:\n",
        "              w, h = obstacle.width, obstacle.height\n",
        "\n",
        "          # Boundary penalties\n",
        "          if x < 0 or y < 0 or x + w > self.room_width or y + h > self.room_height:\n",
        "              penalty += 10.0\n",
        "              x = max(0, min(x, self.room_width - w))\n",
        "              y = max(0, min(y, self.room_height - h))\n",
        "\n",
        "          rectangles.append((x, y, x + w, y + h, obstacle.obstacle_type, obstacle.name))\n",
        "\n",
        "      # Check for overlaps\n",
        "      for i in range(len(rectangles)):\n",
        "          if rectangles[i][4] == ObstacleType.FULL_BLOCKING:\n",
        "              for j in range(i + 1, len(rectangles)):\n",
        "                  if rectangles[j][4] == ObstacleType.FULL_BLOCKING:\n",
        "                      if self._rectangles_overlap(rectangles[i][:4], rectangles[j][:4]):\n",
        "                          overlap_area = self._calculate_overlap_area(rectangles[i][:4], rectangles[j][:4])\n",
        "                          penalty += overlap_area * 50.0\n",
        "\n",
        "      # Door clearance penalties\n",
        "      for feature in self.wall_features:\n",
        "          if feature.feature_type == WallFeatureType.DOOR:\n",
        "              exclusion_zone = self._get_door_exclusion_zone(feature)\n",
        "              for rect in rectangles:\n",
        "                  if rect[4] == ObstacleType.FULL_BLOCKING:\n",
        "                      if self._rectangles_overlap(rect[:4], exclusion_zone):\n",
        "                          overlap_area = self._calculate_overlap_area(rect[:4], exclusion_zone)\n",
        "                          penalty += overlap_area * 30.0 # Door blocking penalty\n",
        "\n",
        "      # NEW: Window obstruction penalties - nothing should block windows\n",
        "      for feature in self.wall_features:\n",
        "          if feature.feature_type == WallFeatureType.WINDOW:\n",
        "              exclusion_zone = self._get_window_exclusion_zone(feature)\n",
        "              for rect in rectangles:\n",
        "                  if rect[4] == ObstacleType.FULL_BLOCKING:\n",
        "                      if self._rectangles_overlap(rect[:4], exclusion_zone):\n",
        "                          overlap_area = self._calculate_overlap_area(rect[:4], exclusion_zone)\n",
        "                          penalty += overlap_area * 40.0  # Window blocking penalty (higher than door)\n",
        "\n",
        "      # Mark occupied areas\n",
        "      for x, y, x_max, y_max, obs_type, _ in rectangles:\n",
        "          if obs_type == ObstacleType.FULL_BLOCKING:\n",
        "              x_start = max(0, int(x / grid_size))\n",
        "              y_start = max(0, int(y / grid_size))\n",
        "              x_end = min(grid_width, int(np.ceil(x_max / grid_size)))\n",
        "              y_end = min(grid_height, int(np.ceil(y_max / grid_size)))\n",
        "              occupancy_grid[y_start:y_end, x_start:x_end] = 1\n",
        "\n",
        "      walkable_cells = np.sum(occupancy_grid == 0)\n",
        "      total_cells = grid_width * grid_height\n",
        "      walkable_percentage = walkable_cells / total_cells if total_cells > 0 else 0\n",
        "\n",
        "      # Store the actual walkable percentage for visualization\n",
        "      self.walkable_percentage = walkable_percentage\n",
        "\n",
        "      # Spacing bonus\n",
        "      spacing_bonus = self._calculate_spacing_bonus(rectangles)\n",
        "\n",
        "      # Wall alignment bonus for wardrobes and other large furniture\n",
        "      wall_alignment_bonus = self._calculate_wall_alignment(rectangles)\n",
        "\n",
        "      # Furniture relationship bonus (sofa facing TV, chairs with tables)\n",
        "      furniture_relationship_bonus = self._calculate_furniture_relationships(rectangles)\n",
        "\n",
        "      # Calculate final fitness\n",
        "      fitness = walkable_percentage + spacing_bonus + wall_alignment_bonus + furniture_relationship_bonus - penalty / 100.0\n",
        "\n",
        "      return max(0, fitness)\n",
        "\n",
        "    def _calculate_wall_alignment(self, rectangles):\n",
        "      \"\"\"Calculate bonus for furniture properly aligned with walls\"\"\"\n",
        "      bonus = 0.0\n",
        "      wall_threshold = 0.2  # Distance threshold to consider furniture aligned with wall\n",
        "\n",
        "      for x, y, x_max, y_max, obs_type, name in rectangles:\n",
        "          # Check if furniture is a wardrobe, bookshelf, cabinet or other wall-aligned furniture\n",
        "          name_lower = name.lower()\n",
        "          if (\"wardrobe\" in name_lower or \"bookshelf\" in name_lower or\n",
        "              \"cabinet\" in name_lower or \"desk\" in name_lower):\n",
        "\n",
        "              # Check alignment with walls\n",
        "              if (x <= wall_threshold or  # Left wall\n",
        "                  y <= wall_threshold or  # Bottom wall\n",
        "                  abs(x_max - self.room_width) <= wall_threshold or  # Right wall\n",
        "                  abs(y_max - self.room_height) <= wall_threshold):  # Top wall\n",
        "\n",
        "                  bonus += 0.05  # Bonus for proper wall alignment\n",
        "              else:\n",
        "                  bonus -= 0.02  # Small penalty for wardrobes not against walls\n",
        "\n",
        "          return bonus\n",
        "\n",
        "    def _calculate_furniture_relationships(self, rectangles):\n",
        "      \"\"\"Calculate bonus for good furniture relationships\"\"\"\n",
        "      bonus = 0.0\n",
        "\n",
        "      # Find specific furniture types\n",
        "      sofas = []\n",
        "      tvs = []\n",
        "      chairs = []\n",
        "      tables_and_desks = []  # Combined category for both tables and desks\n",
        "      beds = []\n",
        "      nightstands = []\n",
        "      coffee_tables = []  # NEW: Added coffee tables\n",
        "\n",
        "      for i, (x, y, x_max, y_max, obs_type, name) in enumerate(rectangles):\n",
        "          name_lower = name.lower()\n",
        "          if \"sofa\" in name_lower or \"couch\" in name_lower:\n",
        "              sofas.append((i, x, y, x_max, y_max))\n",
        "          elif \"tv\" in name_lower or \"television\" in name_lower:\n",
        "              tvs.append((i, x, y, x_max, y_max))\n",
        "          elif \"chair\" in name_lower:\n",
        "              chairs.append((i, x, y, x_max, y_max))\n",
        "          # Group tables and desks together for chair association\n",
        "          elif (\"table\" in name_lower or \"dining\" in name_lower or \"desk\" in name_lower) and \"coffee\" not in name_lower:\n",
        "              tables_and_desks.append((i, x, y, x_max, y_max))\n",
        "          elif \"coffee\" in name_lower and \"table\" in name_lower:\n",
        "              coffee_tables.append((i, x, y, x_max, y_max))\n",
        "          elif \"bed\" in name_lower:\n",
        "              beds.append((i, x, y, x_max, y_max))\n",
        "          elif \"nightstand\" in name_lower:\n",
        "              nightstands.append((i, x, y, x_max, y_max))\n",
        "\n",
        "      # Check sofa facing TV and coffee table arrangement\n",
        "      for sofa_i, sofa_x, sofa_y, sofa_x_max, sofa_y_max in sofas:\n",
        "          sofa_center_x = (sofa_x + sofa_x_max) / 2\n",
        "          sofa_center_y = (sofa_y + sofa_y_max) / 2\n",
        "          sofa_rotation = int(self.position[sofa_i * 3 + 2]) % 4\n",
        "          sofa_width = sofa_x_max - sofa_x\n",
        "          sofa_height = sofa_y_max - sofa_y\n",
        "\n",
        "          # Define the \"front\" of the sofa based on rotation\n",
        "          sofa_front_x, sofa_front_y = sofa_center_x, sofa_center_y\n",
        "          if sofa_rotation == 0:  # Facing up\n",
        "              sofa_front_y = sofa_y_max\n",
        "              front_direction = (0, 1)  # Up\n",
        "          elif sofa_rotation == 1:  # Facing left\n",
        "              sofa_front_x = sofa_x\n",
        "              front_direction = (-1, 0)  # Left\n",
        "          elif sofa_rotation == 2:  # Facing down\n",
        "              sofa_front_y = sofa_y\n",
        "              front_direction = (0, -1)  # Down\n",
        "          else:  # Facing right\n",
        "              sofa_front_x = sofa_x_max\n",
        "              front_direction = (1, 0)  # Right\n",
        "\n",
        "          # Check for coffee tables in front of the sofa\n",
        "          has_coffee_table = False\n",
        "          coffee_table_position = None\n",
        "\n",
        "          for ct_idx, ct_x, ct_y, ct_x_max, ct_y_max in coffee_tables:\n",
        "              ct_center_x = (ct_x + ct_x_max) / 2\n",
        "              ct_center_y = (ct_y + ct_y_max) / 2\n",
        "\n",
        "              # Vector from sofa front to coffee table\n",
        "              dx = ct_center_x - sofa_front_x\n",
        "              dy = ct_center_y - sofa_front_y\n",
        "\n",
        "              # Distance from sofa front to coffee table\n",
        "              distance = np.sqrt(dx**2 + dy**2)\n",
        "\n",
        "              # Dot product to check if coffee table is in front of sofa\n",
        "              dot_product = dx * front_direction[0] + dy * front_direction[1]\n",
        "\n",
        "              # Coffee table should be in front of sofa (dot product > 0) and within reasonable distance\n",
        "              if dot_product > 0 and 0.2 < distance < 1.5:\n",
        "                  # Check if coffee table is roughly centered with the sofa\n",
        "                  if sofa_rotation in [0, 2]:  # Sofa facing up/down\n",
        "                      if abs(ct_center_x - sofa_center_x) < sofa_width * 0.6:\n",
        "                          has_coffee_table = True\n",
        "                          coffee_table_position = (ct_center_x, ct_center_y)\n",
        "                          bonus += 0.08  # Bonus for coffee table in front of sofa\n",
        "                  else:  # Sofa facing left/right\n",
        "                      if abs(ct_center_y - sofa_center_y) < sofa_height * 0.6:\n",
        "                          has_coffee_table = True\n",
        "                          coffee_table_position = (ct_center_x, ct_center_y)\n",
        "                          bonus += 0.08  # Bonus for coffee table in front of sofa\n",
        "\n",
        "          # Penalize sofa without coffee table if there are coffee tables in the room\n",
        "          if not has_coffee_table and len(coffee_tables) > 0:\n",
        "              bonus -= 0.05  # Penalty for sofa without coffee table\n",
        "\n",
        "          # Check TV-sofa-coffee table arrangement\n",
        "          for _, tv_x, tv_y, tv_x_max, tv_y_max in tvs:\n",
        "              tv_center_x = (tv_x + tv_x_max) / 2\n",
        "              tv_center_y = (tv_y + tv_y_max) / 2\n",
        "\n",
        "              # Vector from sofa to TV\n",
        "              dx_tv = tv_center_x - sofa_center_x\n",
        "              dy_tv = tv_center_y - sofa_center_y\n",
        "              tv_distance = np.sqrt(dx_tv**2 + dy_tv**2)\n",
        "\n",
        "              # Check if sofa is facing TV (simplified check)\n",
        "              is_facing = False\n",
        "              if ((sofa_rotation == 0 and dy_tv > 0) or  # Sofa faces up\n",
        "                  (sofa_rotation == 1 and dx_tv < 0) or  # Sofa faces left\n",
        "                  (sofa_rotation == 2 and dy_tv < 0) or  # Sofa faces down\n",
        "                  (sofa_rotation == 3 and dx_tv > 0)):   # Sofa faces right\n",
        "                  is_facing = True\n",
        "                  bonus += 0.05  # Bonus for sofa facing TV\n",
        "\n",
        "              # Check TV-sofa-coffee table spacing\n",
        "              if is_facing and has_coffee_table and 1.0 < tv_distance < 4.0:\n",
        "                  # Vector from coffee table to TV\n",
        "                  dx_ct_tv = tv_center_x - coffee_table_position[0]\n",
        "                  dy_ct_tv = tv_center_y - coffee_table_position[1]\n",
        "                  ct_tv_distance = np.sqrt(dx_ct_tv**2 + dy_ct_tv**2)\n",
        "\n",
        "                  # Vector from sofa to coffee table\n",
        "                  dx_sofa_ct = coffee_table_position[0] - sofa_center_x\n",
        "                  dy_sofa_ct = coffee_table_position[1] - sofa_center_y\n",
        "                  sofa_ct_distance = np.sqrt(dx_sofa_ct**2 + dy_sofa_ct**2)\n",
        "\n",
        "                  # Ideal arrangement: coffee table between sofa and TV, closer to sofa\n",
        "                  if sofa_ct_distance < ct_tv_distance and ct_tv_distance < tv_distance:\n",
        "                      bonus += 0.07  # Ideal TV-sofa-coffee table arrangement\n",
        "\n",
        "      # Check chairs with tables/desks and penalize isolated chairs\n",
        "      chair_has_surface = [False] * len(chairs)  # Track which chairs are associated with tables/desks\n",
        "\n",
        "      for chair_idx, (chair_i, chair_x, chair_y, chair_x_max, chair_y_max) in enumerate(chairs):\n",
        "          chair_center_x = (chair_x + chair_x_max) / 2\n",
        "          chair_center_y = (chair_y + chair_y_max) / 2\n",
        "          chair_rotation = int(self.position[chair_i * 3 + 2]) % 4\n",
        "\n",
        "          # Check against all tables AND desks\n",
        "          for _, surface_x, surface_y, surface_x_max, surface_y_max in tables_and_desks:\n",
        "              surface_center_x = (surface_x + surface_x_max) / 2\n",
        "              surface_center_y = (surface_y + surface_y_max) / 2\n",
        "\n",
        "              # Check if chair is near a table or desk\n",
        "              dx = surface_center_x - chair_center_x\n",
        "              dy = surface_center_y - chair_center_y\n",
        "              distance = np.sqrt(dx**2 + dy**2)\n",
        "\n",
        "              # Chair should be near table/desk but not overlapping\n",
        "              if 0.1 < distance < 1.2:\n",
        "                  chair_has_surface[chair_idx] = True  # Mark this chair as associated with a table/desk\n",
        "\n",
        "                  # Check if chair is facing the table/desk\n",
        "                  if ((chair_rotation == 0 and dy > 0) or  # Chair faces up\n",
        "                      (chair_rotation == 1 and dx < 0) or  # Chair faces left\n",
        "                      (chair_rotation == 2 and dy < 0) or  # Chair faces down\n",
        "                      (chair_rotation == 3 and dx > 0)):   # Chair faces right\n",
        "                      bonus += 0.05\n",
        "                  else:\n",
        "                      bonus += 0.02  # Still a small bonus for nearby chair, but better if facing\n",
        "\n",
        "      # Apply penalty for chairs not associated with any table or desk\n",
        "      for chair_idx, has_surface in enumerate(chair_has_surface):\n",
        "          if not has_surface:\n",
        "              # Significant penalty for isolated chairs\n",
        "              bonus -= 0.15\n",
        "\n",
        "      # Check nightstands placement relative to bed\n",
        "      for _, bed_x, bed_y, bed_x_max, bed_y_max in beds:\n",
        "          bed_width = bed_x_max - bed_x\n",
        "          bed_height = bed_y_max - bed_y\n",
        "\n",
        "          for _, ns_x, ns_y, ns_x_max, ns_y_max in nightstands:\n",
        "              ns_center_x = (ns_x + ns_x_max) / 2\n",
        "              ns_center_y = (ns_y + ns_y_max) / 2\n",
        "\n",
        "              # Check if nightstand is near the side of the bed\n",
        "              # Check left and right sides of the bed\n",
        "              if ((abs(ns_center_y - (bed_y + bed_height/2)) < bed_height/2) and\n",
        "                  (abs(ns_x - bed_x_max) < 0.3 or abs(ns_x_max - bed_x) < 0.3)):\n",
        "                  bonus += 0.05\n",
        "              # Check top and bottom sides of the bed\n",
        "              elif ((abs(ns_center_x - (bed_x + bed_width/2)) < bed_width/2) and\n",
        "                    (abs(ns_y - bed_y_max) < 0.3 or abs(ns_y_max - bed_y) < 0.3)):\n",
        "                  bonus += 0.05\n",
        "\n",
        "      return bonus\n",
        "\n",
        "    def _calculate_overlap_area(self, rect1, rect2):\n",
        "        \"\"\"Calculate the area of overlap between two rectangles\"\"\"\n",
        "        x1_min, y1_min, x1_max, y1_max = rect1\n",
        "        x2_min, y2_min, x2_max, y2_max = rect2\n",
        "        overlap_x = max(0, min(x1_max, x2_max) - max(x1_min, x2_min))\n",
        "        overlap_y = max(0, min(y1_max, y2_max) - max(y1_min, y2_min))\n",
        "        return overlap_x * overlap_y\n",
        "\n",
        "    def _calculate_spacing_bonus(self, rectangles):\n",
        "        \"\"\"Calculate bonus for maintaining good spacing between furniture\"\"\"\n",
        "        bonus = 0.0\n",
        "        min_spacing = 0.6\n",
        "        full_blocking_rects = [r for r in rectangles if r[4] == ObstacleType.FULL_BLOCKING]\n",
        "        for i in range(len(full_blocking_rects)):\n",
        "            for j in range(i + 1, len(full_blocking_rects)):\n",
        "                distance = self._min_distance_between_rects(\n",
        "                    full_blocking_rects[i][:4], full_blocking_rects[j][:4])\n",
        "                if distance >= min_spacing:\n",
        "                    bonus += 0.01\n",
        "                elif distance > 0:\n",
        "                    bonus += 0.005\n",
        "        return bonus\n",
        "\n",
        "    def _min_distance_between_rects(self, rect1, rect2):\n",
        "        \"\"\"Calculate minimum distance between two rectangles\"\"\"\n",
        "        x1_min, y1_min, x1_max, y1_max = rect1\n",
        "        x2_min, y2_min, x2_max, y2_max = rect2\n",
        "        if self._rectangles_overlap(rect1, rect2):\n",
        "            return 0\n",
        "        dx = max(0, max(x1_min - x2_max, x2_min - x1_max))\n",
        "        dy = max(0, max(y1_min - y2_max, y2_min - y1_max))\n",
        "        return np.sqrt(dx**2 + dy**2)\n",
        "\n",
        "    def visualize_solution_2d(self, position=None, title=None):\n",
        "      \"\"\"Enhanced 2D visualization with doors and windows\"\"\"\n",
        "      if position is None:\n",
        "          position = self.position\n",
        "      if title is None:\n",
        "          title = f\"Room Layout (2D View)\"\n",
        "      fig, ax = plt.subplots(1, 1, figsize=(12, 10))\n",
        "\n",
        "      # Draw room\n",
        "      room_rect = patches.Rectangle((0, 0), self.room_width, self.room_height,\n",
        "                                    linewidth=4, edgecolor='black', facecolor='lightgray', alpha=0.2)\n",
        "      ax.add_patch(room_rect)\n",
        "\n",
        "      # Draw doors and windows\n",
        "      for feature in self.wall_features:\n",
        "          self._draw_wall_feature(ax, feature)\n",
        "\n",
        "      # Draw furniture and calculate walkable area\n",
        "      positions = []\n",
        "      for i in range(0, len(position), 3):\n",
        "          x = position[i]\n",
        "          y = position[i + 1]\n",
        "          rotation = int(position[i + 2]) % 4 * 90\n",
        "          positions.append((x, y, rotation))\n",
        "\n",
        "      # Calculate walkable area directly\n",
        "      grid_size = 0.1\n",
        "      grid_width = int(np.ceil(self.room_width / grid_size))\n",
        "      grid_height = int(np.ceil(self.room_height / grid_size))\n",
        "      occupancy_grid = np.zeros((grid_height, grid_width))\n",
        "\n",
        "      # Mark occupied areas\n",
        "      for i, (x, y, rotation) in enumerate(positions):\n",
        "          obstacle = self.obstacles[i]\n",
        "          if rotation in [90, 270]:\n",
        "              w, h = obstacle.height, obstacle.width\n",
        "          else:\n",
        "              w, h = obstacle.width, obstacle.height\n",
        "\n",
        "          if obstacle.obstacle_type == ObstacleType.FULL_BLOCKING:\n",
        "              x_start = max(0, int(x / grid_size))\n",
        "              y_start = max(0, int(y / grid_size))\n",
        "              x_end = min(grid_width, int(np.ceil((x + w) / grid_size)))\n",
        "              y_end = min(grid_height, int(np.ceil((y + h) / grid_size)))\n",
        "              occupancy_grid[y_start:y_end, x_start:x_end] = 1\n",
        "\n",
        "      walkable_cells = np.sum(occupancy_grid == 0)\n",
        "      total_cells = grid_width * grid_height\n",
        "      walkable_pct = (walkable_cells / total_cells if total_cells > 0 else 0) * 100\n",
        "\n",
        "      # Draw furniture\n",
        "      colors = ['#FF6B6B', '#4ECDC4', '#45B7D1', '#96CEB4', '#FFEAA7', '#DDA0DD', '#98D8C8', '#F39C12', '#E74C3C']\n",
        "      for i, (x, y, rotation) in enumerate(positions):\n",
        "          obstacle = self.obstacles[i]\n",
        "          if rotation in [90, 270]:\n",
        "              w, h = obstacle.height, obstacle.width\n",
        "          else:\n",
        "              w, h = obstacle.width, obstacle.height\n",
        "\n",
        "          color = colors[i % len(colors)]\n",
        "          if obstacle.obstacle_type == ObstacleType.FULL_BLOCKING:\n",
        "              facecolor = color\n",
        "              alpha = 0.8\n",
        "              edgecolor = 'black'\n",
        "              linewidth = 2\n",
        "          else:\n",
        "              facecolor = 'none'\n",
        "              alpha = 0.9\n",
        "              edgecolor = color\n",
        "              linewidth = 3\n",
        "\n",
        "          rect = patches.Rectangle((x, y), w, h, linewidth=linewidth,\n",
        "                                   edgecolor=edgecolor, facecolor=facecolor,\n",
        "                                   alpha=alpha)\n",
        "          ax.add_patch(rect)\n",
        "\n",
        "          # Add furniture label\n",
        "          ax.text(x + w/2, y + h/2, obstacle.name,\n",
        "                  ha='center', va='center', fontsize=9, weight='bold',\n",
        "                  bbox=dict(boxstyle=\"round,pad=0.3\", facecolor='white', alpha=0.8))\n",
        "\n",
        "      ax.set_xlim(-0.5, self.room_width + 0.5)\n",
        "      ax.set_ylim(-0.5, self.room_height + 0.5)\n",
        "      ax.set_aspect('equal')\n",
        "      ax.grid(True, alpha=0.3, linestyle='--')\n",
        "      ax.set_xlabel('Width (m)', fontsize=12)\n",
        "      ax.set_ylabel('Height (m)', fontsize=12)\n",
        "\n",
        "      # Display calculated walkable percentage and fitness\n",
        "      fitness_value = self.fitness\n",
        "      ax.set_title(f'{title}\\nWalkable Area: {walkable_pct:.1f}% | Fitness: {fitness_value:.3f}',\n",
        "                  fontsize=14, fontweight='bold')\n",
        "      plt.tight_layout()\n",
        "      return fig, ax\n",
        "\n",
        "    def visualize_solution_3d_plotly(self, position=None, title=None, wall_height=2.5):\n",
        "      \"\"\"Create an interactive 3D visualization using Plotly\"\"\"\n",
        "      if position is None:\n",
        "          position = self.position\n",
        "      if title is None:\n",
        "          title = f\"Room Layout (3D View)\"\n",
        "\n",
        "      # Create figure\n",
        "      fig = go.Figure()\n",
        "\n",
        "      # Draw room floor\n",
        "      fig.add_trace(go.Mesh3d(\n",
        "          x=[0, 0, self.room_width, self.room_width],\n",
        "          y=[0, self.room_height, self.room_height, 0],\n",
        "          z=[0, 0, 0, 0],\n",
        "          i=[0, 0],\n",
        "          j=[1, 2],\n",
        "          k=[2, 3],\n",
        "          opacity=0.3,\n",
        "          color='lightgray',\n",
        "          name='Floor'\n",
        "      ))\n",
        "\n",
        "      # Draw walls\n",
        "      # South wall\n",
        "      fig.add_trace(go.Mesh3d(\n",
        "          x=[0, 0, self.room_width, self.room_width],\n",
        "          y=[0, 0, 0, 0],\n",
        "          z=[0, wall_height, wall_height, 0],\n",
        "          i=[0, 0],\n",
        "          j=[1, 2],\n",
        "          k=[2, 3],\n",
        "          opacity=0.2,\n",
        "          color='lightblue',\n",
        "          name='South Wall'\n",
        "      ))\n",
        "\n",
        "      # East wall\n",
        "      fig.add_trace(go.Mesh3d(\n",
        "          x=[self.room_width, self.room_width, self.room_width, self.room_width],\n",
        "          y=[0, self.room_height, self.room_height, 0],\n",
        "          z=[0, 0, wall_height, wall_height],\n",
        "          i=[0, 0],\n",
        "          j=[1, 2],\n",
        "          k=[2, 3],\n",
        "          opacity=0.2,\n",
        "          color='lightgreen',\n",
        "          name='East Wall'\n",
        "      ))\n",
        "\n",
        "      # North wall\n",
        "      fig.add_trace(go.Mesh3d(\n",
        "          x=[0, 0, self.room_width, self.room_width],\n",
        "          y=[self.room_height, self.room_height, self.room_height, self.room_height],\n",
        "          z=[0, wall_height, wall_height, 0],\n",
        "          i=[0, 0],\n",
        "          j=[1, 2],\n",
        "          k=[2, 3],\n",
        "          opacity=0.2,\n",
        "          color='lightblue',\n",
        "          name='North Wall'\n",
        "      ))\n",
        "\n",
        "      # West wall\n",
        "      fig.add_trace(go.Mesh3d(\n",
        "          x=[0, 0, 0, 0],\n",
        "          y=[0, self.room_height, self.room_height, 0],\n",
        "          z=[0, 0, wall_height, wall_height],\n",
        "          i=[0, 0],\n",
        "          j=[1, 2],\n",
        "          k=[2, 3],\n",
        "          opacity=0.2,\n",
        "          color='lightgreen',\n",
        "          name='West Wall'\n",
        "      ))\n",
        "\n",
        "      # Draw doors and windows\n",
        "      for feature in self.wall_features:\n",
        "          door_height = feature.height\n",
        "          window_height = feature.height\n",
        "          window_bottom = 1.0  # Height from floor to bottom of window\n",
        "\n",
        "          if feature.feature_type == WallFeatureType.DOOR:\n",
        "              color = 'brown'\n",
        "              z_start = 0  # Door starts at floor\n",
        "              z_height = door_height\n",
        "              name = f\"Door: {feature.name}\"\n",
        "          else:  # Window\n",
        "              color = 'skyblue'\n",
        "              z_start = window_bottom\n",
        "              z_height = window_height\n",
        "              name = f\"Window: {feature.name}\"\n",
        "\n",
        "          if feature.wall == 'north':  # Top wall\n",
        "              x = [feature.position, feature.position + feature.width, feature.position + feature.width, feature.position]\n",
        "              y = [self.room_height, self.room_height, self.room_height, self.room_height]\n",
        "              z = [z_start, z_start, z_start + z_height, z_start + z_height]\n",
        "              i = [0, 0]\n",
        "              j = [1, 2]\n",
        "              k = [2, 3]\n",
        "          elif feature.wall == 'south':  # Bottom wall\n",
        "              x = [feature.position, feature.position + feature.width, feature.position + feature.width, feature.position]\n",
        "              y = [0, 0, 0, 0]\n",
        "              z = [z_start, z_start, z_start + z_height, z_start + z_height]\n",
        "              i = [0, 0]\n",
        "              j = [1, 2]\n",
        "              k = [2, 3]\n",
        "          elif feature.wall == 'east':  # Right wall\n",
        "              x = [self.room_width, self.room_width, self.room_width, self.room_width]\n",
        "              y = [feature.position, feature.position + feature.width, feature.position + feature.width, feature.position]\n",
        "              z = [z_start, z_start, z_start + z_height, z_start + z_height]\n",
        "              i = [0, 0]\n",
        "              j = [1, 2]\n",
        "              k = [2, 3]\n",
        "          elif feature.wall == 'west':  # Left wall\n",
        "              x = [0, 0, 0, 0]\n",
        "              y = [feature.position, feature.position + feature.width, feature.position + feature.width, feature.position]\n",
        "              z = [z_start, z_start, z_start + z_height, z_start + z_height]\n",
        "              i = [0, 0]\n",
        "              j = [1, 2]\n",
        "              k = [2, 3]\n",
        "\n",
        "          fig.add_trace(go.Mesh3d(\n",
        "              x=x, y=y, z=z,\n",
        "              i=i, j=j, k=k,\n",
        "              color=color,\n",
        "              opacity=0.7,\n",
        "              name=name\n",
        "          ))\n",
        "\n",
        "      # Draw furniture\n",
        "      positions = []\n",
        "      for i in range(0, len(position), 3):\n",
        "          x = position[i]\n",
        "          y = position[i + 1]\n",
        "          rotation = int(position[i + 2]) % 4 * 90\n",
        "          positions.append((x, y, rotation))\n",
        "\n",
        "      colors = ['#FF6B6B', '#4ECDC4', '#45B7D1', '#96CEB4', '#FFEAA7', '#DDA0DD', '#98D8C8', '#F39C12', '#E74C3C']\n",
        "\n",
        "      for i, (x, y, rotation) in enumerate(positions):\n",
        "          obstacle = self.obstacles[i]\n",
        "          if rotation in [90, 270]:\n",
        "              w, h = obstacle.height, obstacle.width\n",
        "          else:\n",
        "              w, h = obstacle.width, obstacle.height\n",
        "\n",
        "          # Use the depth from the obstacle if available, otherwise use default\n",
        "          depth = obstacle.depth if hasattr(obstacle, 'depth') else 0.8\n",
        "\n",
        "          color = colors[i % len(colors)]\n",
        "\n",
        "          # Create furniture as a 3D box - for each face, define two triangles\n",
        "          if rotation in [0, 180]:\n",
        "              # Define all 8 vertices of the box\n",
        "              vertices_x = [x, x+w, x+w, x, x, x+w, x+w, x]\n",
        "              vertices_y = [y, y, y+h, y+h, y, y, y+h, y+h]\n",
        "              vertices_z = [0, 0, 0, 0, depth, depth, depth, depth]\n",
        "\n",
        "              # Define the 12 triangles (2 per face * 6 faces)\n",
        "              # Bottom face\n",
        "              i_indices = [0, 0]\n",
        "              j_indices = [1, 2]\n",
        "              k_indices = [2, 3]\n",
        "\n",
        "              # Top face\n",
        "              i_indices.extend([4, 4])\n",
        "              j_indices.extend([5, 6])\n",
        "              k_indices.extend([6, 7])\n",
        "\n",
        "              # Side faces\n",
        "              i_indices.extend([0, 0, 1, 1, 2, 2, 3, 3])\n",
        "              j_indices.extend([1, 5, 2, 6, 3, 7, 0, 4])\n",
        "              k_indices.extend([5, 4, 6, 5, 7, 6, 4, 7])\n",
        "\n",
        "          else:  # Rotated 90 or 270 degrees\n",
        "              # Define all 8 vertices of the box\n",
        "              vertices_x = [x, x+h, x+h, x, x, x+h, x+h, x]\n",
        "              vertices_y = [y, y, y+w, y+w, y, y, y+w, y+w]\n",
        "              vertices_z = [0, 0, 0, 0, depth, depth, depth, depth]\n",
        "\n",
        "              # Define the 12 triangles (2 per face * 6 faces)\n",
        "              # Bottom face\n",
        "              i_indices = [0, 0]\n",
        "              j_indices = [1, 2]\n",
        "              k_indices = [2, 3]\n",
        "\n",
        "              # Top face\n",
        "              i_indices.extend([4, 4])\n",
        "              j_indices.extend([5, 6])\n",
        "              k_indices.extend([6, 7])\n",
        "\n",
        "              # Side faces\n",
        "              i_indices.extend([0, 0, 1, 1, 2, 2, 3, 3])\n",
        "              j_indices.extend([1, 5, 2, 6, 3, 7, 0, 4])\n",
        "              k_indices.extend([5, 4, 6, 5, 7, 6, 4, 7])\n",
        "\n",
        "          fig.add_trace(go.Mesh3d(\n",
        "              x=vertices_x, y=vertices_y, z=vertices_z,\n",
        "              i=i_indices, j=j_indices, k=k_indices,\n",
        "              color=color,\n",
        "              opacity=0.7,\n",
        "              name=obstacle.name\n",
        "          ))\n",
        "\n",
        "          # Add furniture label\n",
        "          if rotation in [0, 180]:\n",
        "              label_x = x + w/2\n",
        "              label_y = y + h/2\n",
        "          else:\n",
        "              label_x = x + h/2\n",
        "              label_y = y + w/2\n",
        "          label_z = depth + 0.1\n",
        "\n",
        "          fig.add_trace(go.Scatter3d(\n",
        "              x=[label_x], y=[label_y], z=[label_z],\n",
        "              mode='text',\n",
        "              text=[obstacle.name],\n",
        "              textfont=dict(color='black', size=10),\n",
        "              name=f\"{obstacle.name} Label\"\n",
        "          ))\n",
        "\n",
        "      # Update layout\n",
        "      walkable_pct = self.walkable_percentage * 100 if hasattr(self, 'walkable_percentage') else 0\n",
        "      fitness_value = self.fitness\n",
        "\n",
        "      fig.update_layout(\n",
        "          title=f'{title}<br>Walkable Area: {walkable_pct:.1f}% | Fitness: {fitness_value:.3f}',\n",
        "          scene=dict(\n",
        "              xaxis_title='X (width)',\n",
        "              yaxis_title='Y (depth)',\n",
        "              zaxis_title='Z (height)',\n",
        "              aspectmode='data'\n",
        "          ),\n",
        "          scene_camera=dict(\n",
        "              eye=dict(x=1.5, y=-1.5, z=1.0)\n",
        "          ),\n",
        "          margin=dict(l=0, r=0, b=0, t=50),\n",
        "          height=800\n",
        "      )\n",
        "\n",
        "      return fig\n",
        "\n",
        "    def _draw_wall_feature(self, ax, feature: WallFeature):\n",
        "        \"\"\"Draw doors and windows on the room walls\"\"\"\n",
        "        if feature.wall == 'north': # Top wall\n",
        "            x, y = feature.position, self.room_height\n",
        "            width, height = feature.width, -0.1\n",
        "        elif feature.wall == 'south': # Bottom wall\n",
        "            x, y = feature.position, 0\n",
        "            width, height = feature.width, 0.1\n",
        "        elif feature.wall == 'east': # Right wall\n",
        "            x, y = self.room_width, feature.position\n",
        "            width, height = -0.1, feature.width\n",
        "        elif feature.wall == 'west': # Left wall\n",
        "            x, y = 0, feature.position\n",
        "            width, height = 0.1, feature.width\n",
        "\n",
        "        if feature.feature_type == WallFeatureType.DOOR:\n",
        "            color = 'brown'\n",
        "        else: # Window\n",
        "            color = 'lightblue'\n",
        "\n",
        "        rect = patches.Rectangle((x, y), width, height,\n",
        "                                 linewidth=3, edgecolor=color, facecolor=color, alpha=0.8)\n",
        "        ax.add_patch(rect)\n",
        "\n",
        "        # Add label\n",
        "        if feature.wall in ['north', 'south']:\n",
        "            label_x, label_y = x + width/2, y + height/2\n",
        "        else:\n",
        "            label_x, label_y = x + width/2, y + height/2\n",
        "        ax.text(label_x, label_y, feature.name, ha='center', va='center',\n",
        "                fontsize=8, weight='bold', color='white')\n",
        "\n",
        "    def copy(self):\n",
        "        \"\"\"Create a copy of the solution\"\"\"\n",
        "        new_solution = Solution(self.obstacles, self.room_width, self.room_height, self.wall_features)\n",
        "        new_solution.position = self.position.copy()\n",
        "        new_solution.fitness = self.fitness\n",
        "        return new_solution\n",
        "\n",
        "# Optimization Algorithm Classes\n",
        "class OptimizationAlgorithm(ABC):\n",
        "    \"\"\"Abstract base class for optimization algorithms\"\"\"\n",
        "    def __init__(self, obstacles: List[Obstacle], room_width: float, room_height: float,\n",
        "                 wall_features: List[WallFeature] = None, population_size: int = 50, max_iterations: int = 100, seed=42):\n",
        "        # Store the seed\n",
        "        self.seed = seed\n",
        "        # Initialize with seed\n",
        "        set_random_seed(self.seed)\n",
        "\n",
        "        self.obstacles = obstacles\n",
        "        self.room_width = room_width\n",
        "        self.room_height = room_height\n",
        "        self.wall_features = wall_features or []\n",
        "        self.population_size = population_size\n",
        "        self.max_iterations = max_iterations\n",
        "        self.best_solution = None\n",
        "        self.fitness_history = []\n",
        "        self.population_history = []\n",
        "\n",
        "    @abstractmethod\n",
        "    def optimize(self) -> Solution:\n",
        "        \"\"\"Run the optimization algorithm\"\"\"\n",
        "        pass\n",
        "\n",
        "    def create_random_solution(self) -> Solution:\n",
        "        \"\"\"Create a random solution\"\"\"\n",
        "        return Solution(self.obstacles, self.room_width, self.room_height, self.wall_features)\n",
        "\n",
        "class PelicanOptimizationAlgorithm(OptimizationAlgorithm):\n",
        "    \"\"\"Enhanced Pelican Optimization Algorithm implementation\"\"\"\n",
        "    def optimize(self) -> Solution:\n",
        "        \"\"\"Run the Enhanced Pelican Optimization Algorithm\"\"\"\n",
        "        # Initialize population\n",
        "        population = [self.create_random_solution() for _ in range(self.population_size)]\n",
        "\n",
        "        # Evaluate initial population\n",
        "        for solution in population:\n",
        "            solution.fitness = solution.calculate_fitness()\n",
        "\n",
        "        # Track best solution\n",
        "        self.best_solution = max(population, key=lambda x: x.fitness)\n",
        "        self.fitness_history = [self.best_solution.fitness]\n",
        "        self.population_history = [self.best_solution.copy()]\n",
        "\n",
        "        for iteration in range(self.max_iterations):\n",
        "            # Sort population by fitness\n",
        "            population.sort(key=lambda x: x.fitness, reverse=True)\n",
        "\n",
        "            for i in range(self.population_size):\n",
        "                # Phase 1: Exploration (first half of population)\n",
        "                if i < self.population_size // 2:\n",
        "                    if i == 0:\n",
        "                        # Best pelican does random walk\n",
        "                        for j in range(len(population[i].position)):\n",
        "                            if random.random() < 0.3: # 30% chance of modification\n",
        "                                if j % 3 == 2: # Rotation parameter\n",
        "                                    population[i].position[j] = random.randint(0, 3)\n",
        "                                else: # Position parameters\n",
        "                                    population[i].position[j] += np.random.normal(0, 0.1)\n",
        "                    else:\n",
        "                        # Move towards best pelican with exploration\n",
        "                        best_pelican = population[0]\n",
        "                        alpha = 2 * np.random.random() - 1 # Random coefficient [-1, 1]\n",
        "                        for j in range(len(population[i].position)):\n",
        "                            if j % 3 == 2: # Rotation parameter\n",
        "                                if random.random() < 0.3:\n",
        "                                    population[i].position[j] = best_pelican.position[j]\n",
        "                                else:\n",
        "                                    population[i].position[j] = random.randint(0, 3)\n",
        "                            else: # Position parameters\n",
        "                                population[i].position[j] = ((population[i].position[j] +\n",
        "                                                            best_pelican.position[j]) / 2 +\n",
        "                                                            alpha * np.random.random() * 0.5)\n",
        "                # Phase 2: Exploitation (second half of population)\n",
        "                else:\n",
        "                    # Adaptive exploitation parameter\n",
        "                    beta = 2 * (1 - iteration / self.max_iterations)\n",
        "                    for j in range(len(population[i].position)):\n",
        "                        r1, r2 = np.random.random(), np.random.random()\n",
        "                        if j % 3 == 2: # Rotation parameter\n",
        "                            if random.random() < beta:\n",
        "                                population[i].position[j] = self.best_solution.position[j]\n",
        "                            else:\n",
        "                                population[i].position[j] = random.randint(0, 3)\n",
        "                        else: # Position parameters\n",
        "                            population[i].position[j] = (self.best_solution.position[j] +\n",
        "                                                      beta * r1 * (self.best_solution.position[j] - population[i].position[j]) +\n",
        "                                                      (1 - beta) * r2 * (np.random.random() - 0.5) * 0.3)\n",
        "\n",
        "                # Apply constraints\n",
        "                self._apply_constraints(population[i])\n",
        "\n",
        "                # Evaluate fitness\n",
        "                population[i].fitness = population[i].calculate_fitness()\n",
        "\n",
        "                # Update global best\n",
        "                if population[i].fitness > self.best_solution.fitness:\n",
        "                    self.best_solution = population[i].copy()\n",
        "\n",
        "            self.fitness_history.append(self.best_solution.fitness)\n",
        "            self.population_history.append(self.best_solution.copy())\n",
        "\n",
        "            # Relaxed early stopping condition\n",
        "            if len(self.fitness_history) > 50:\n",
        "                recent_improvements = [abs(self.fitness_history[i] - self.fitness_history[i-1]) for i in range(-30, 0)]\n",
        "                if all(imp < 1e-5 for imp in recent_improvements):\n",
        "                    print(f\"POA early stopping at iteration {iteration}\")\n",
        "                    break\n",
        "\n",
        "        return self.best_solution\n",
        "\n",
        "    def _apply_constraints(self, solution):\n",
        "        \"\"\"Apply position constraints\"\"\"\n",
        "        for i in range(0, len(solution.position), 3):\n",
        "            obstacle_idx = i // 3\n",
        "            if obstacle_idx < len(self.obstacles):\n",
        "                obstacle = self.obstacles[obstacle_idx]\n",
        "                rotation = int(solution.position[i + 2]) % 4\n",
        "                if rotation in [1, 3]:\n",
        "                    w_furniture, h_furniture = obstacle.height, obstacle.width\n",
        "                else:\n",
        "                    w_furniture, h_furniture = obstacle.width, obstacle.height\n",
        "\n",
        "                solution.position[i] = np.clip(solution.position[i], 0, self.room_width - w_furniture)\n",
        "                solution.position[i + 1] = np.clip(solution.position[i + 1], 0, self.room_height - h_furniture)\n",
        "                solution.position[i + 2] = np.clip(solution.position[i + 2], 0, 3.99)\n",
        "\n",
        "class GeneticAlgorithm(OptimizationAlgorithm):\n",
        "    \"\"\"Genetic Algorithm implementation for comparison\"\"\"\n",
        "    def __init__(self, obstacles: List[Obstacle], room_width: float, room_height: float,\n",
        "                 wall_features: List[WallFeature] = None, population_size: int = 50, max_iterations: int = 100,\n",
        "                 mutation_rate: float = 0.15, crossover_rate: float = 0.8):\n",
        "        super().__init__(obstacles, room_width, room_height, wall_features, population_size, max_iterations)\n",
        "        self.mutation_rate = mutation_rate\n",
        "        self.crossover_rate = crossover_rate\n",
        "\n",
        "    def optimize(self) -> Solution:\n",
        "        \"\"\"Run the Genetic Algorithm\"\"\"\n",
        "        # Initialize population\n",
        "        population = [self.create_random_solution() for _ in range(self.population_size)]\n",
        "\n",
        "        # Evaluate initial population\n",
        "        for solution in population:\n",
        "            solution.fitness = solution.calculate_fitness()\n",
        "\n",
        "        # Track best solution\n",
        "        self.best_solution = max(population, key=lambda x: x.fitness)\n",
        "        self.fitness_history = [self.best_solution.fitness]\n",
        "        self.population_history = [self.best_solution.copy()]\n",
        "\n",
        "        for iteration in range(self.max_iterations):\n",
        "            new_population = []\n",
        "\n",
        "            # Elitism: Keep best solutions\n",
        "            population.sort(key=lambda x: x.fitness, reverse=True)\n",
        "            elite_count = max(2, self.population_size // 10)\n",
        "            new_population.extend([p.copy() for p in population[:elite_count]])\n",
        "\n",
        "            # Generate offspring\n",
        "            while len(new_population) < self.population_size:\n",
        "                # Selection\n",
        "                parent1 = self._tournament_selection(population)\n",
        "                parent2 = self._tournament_selection(population)\n",
        "\n",
        "                # Crossover\n",
        "                if random.random() < self.crossover_rate:\n",
        "                    child1, child2 = self._crossover(parent1, parent2)\n",
        "                else:\n",
        "                    child1, child2 = parent1.copy(), parent2.copy()\n",
        "\n",
        "                # Mutation\n",
        "                if random.random() < self.mutation_rate:\n",
        "                    self._mutate(child1)\n",
        "                if random.random() < self.mutation_rate:\n",
        "                    self._mutate(child2)\n",
        "\n",
        "                new_population.extend([child1, child2])\n",
        "\n",
        "            # Trim population to exact size\n",
        "            population = new_population[:self.population_size]\n",
        "\n",
        "            # Evaluate population\n",
        "            for solution in population:\n",
        "                solution.fitness = solution.calculate_fitness()\n",
        "\n",
        "            # Update best solution\n",
        "            current_best = max(population, key=lambda x: x.fitness)\n",
        "            if current_best.fitness > self.best_solution.fitness:\n",
        "                self.best_solution = current_best.copy()\n",
        "\n",
        "            self.fitness_history.append(self.best_solution.fitness)\n",
        "            self.population_history.append(self.best_solution.copy())\n",
        "\n",
        "        return self.best_solution\n",
        "\n",
        "    def _tournament_selection(self, population, tournament_size=3):\n",
        "        \"\"\"Tournament selection\"\"\"\n",
        "        tournament = random.sample(population, min(tournament_size, len(population)))\n",
        "        return max(tournament, key=lambda x: x.fitness)\n",
        "\n",
        "    def _crossover(self, parent1: Solution, parent2: Solution) -> Tuple[Solution, Solution]:\n",
        "        \"\"\"Single-point crossover\"\"\"\n",
        "        child1 = parent1.copy()\n",
        "        child2 = parent2.copy()\n",
        "        crossover_point = random.randint(1, len(parent1.position) - 1)\n",
        "\n",
        "        # Swap parts after crossover point\n",
        "        child1.position[crossover_point:] = parent2.position[crossover_point:].copy()\n",
        "        child2.position[crossover_point:] = parent1.position[crossover_point:].copy()\n",
        "\n",
        "        return child1, child2\n",
        "\n",
        "    def _mutate(self, solution: Solution):\n",
        "        \"\"\"Mutation operator\"\"\"\n",
        "        for i in range(len(solution.position)):\n",
        "            if random.random() < 0.1: # Gene mutation probability\n",
        "                if i % 3 == 2: # Rotation parameter\n",
        "                    solution.position[i] = random.randint(0, 3)\n",
        "                else: # Position parameters\n",
        "                    if i % 3 == 0: # x-coordinate\n",
        "                        max_val = self.room_width\n",
        "                    else: # y-coordinate\n",
        "                        max_val = self.room_height\n",
        "                    solution.position[i] += random.uniform(-0.3, 0.3)\n",
        "                    solution.position[i] = max(0, min(max_val, solution.position[i]))\n",
        "\n",
        "class ParticleSwarmOptimization(OptimizationAlgorithm):\n",
        "    \"\"\"Particle Swarm Optimization implementation for comparison\"\"\"\n",
        "    def __init__(self, obstacles: List[Obstacle], room_width: float, room_height: float,\n",
        "                 wall_features: List[WallFeature] = None, population_size: int = 50, max_iterations: int = 100,\n",
        "                 w=0.6, c1=1.8, c2=1.8):\n",
        "        super().__init__(obstacles, room_width, room_height, wall_features, population_size, max_iterations)\n",
        "        self.w = w # Inertia weight\n",
        "        self.c1 = c1 # Cognitive parameter\n",
        "        self.c2 = c2 # Social parameter\n",
        "        self.velocities = []\n",
        "        self.personal_best = []\n",
        "\n",
        "    def optimize(self) -> Solution:\n",
        "        \"\"\"Run the Particle Swarm Optimization\"\"\"\n",
        "        # Initialize population (particles)\n",
        "        population = [self.create_random_solution() for _ in range(self.population_size)]\n",
        "\n",
        "        # Initialize velocities\n",
        "        self.velocities = []\n",
        "        for _ in range(self.population_size):\n",
        "            velocity = np.random.uniform(-0.5, 0.5, len(population[0].position))\n",
        "            self.velocities.append(velocity)\n",
        "\n",
        "        # Evaluate initial population\n",
        "        for solution in population:\n",
        "            solution.fitness = solution.calculate_fitness()\n",
        "\n",
        "        # Initialize personal best\n",
        "        self.personal_best = [solution.copy() for solution in population]\n",
        "\n",
        "        # Track global best\n",
        "        self.best_solution = max(population, key=lambda x: x.fitness)\n",
        "        self.fitness_history = [self.best_solution.fitness]\n",
        "        self.population_history = [self.best_solution.copy()]\n",
        "\n",
        "        for iteration in range(self.max_iterations):\n",
        "            # Adaptive inertia weight\n",
        "            w_current = self.w * (1 - iteration / self.max_iterations)\n",
        "\n",
        "            for i in range(self.population_size):\n",
        "                # Update velocity\n",
        "                r1, r2 = random.random(), random.random()\n",
        "                cognitive_velocity = self.c1 * r1 * (self.personal_best[i].position - population[i].position)\n",
        "                social_velocity = self.c2 * r2 * (self.best_solution.position - population[i].position)\n",
        "\n",
        "                self.velocities[i] = (w_current * self.velocities[i] +\n",
        "                                    cognitive_velocity + social_velocity)\n",
        "\n",
        "                # Limit velocity\n",
        "                self.velocities[i] = np.clip(self.velocities[i], -0.5, 0.5)\n",
        "\n",
        "                # Update position\n",
        "                population[i].position += self.velocities[i]\n",
        "\n",
        "                # Apply constraints\n",
        "                for j in range(len(population[i].position)):\n",
        "                    if j % 3 == 2: # Rotation parameter\n",
        "                        population[i].position[j] = int(population[i].position[j]) % 4\n",
        "                    else: # Position parameters\n",
        "                        if j % 3 == 0: # x-coordinate\n",
        "                            max_val = self.room_width\n",
        "                        else: # y-coordinate\n",
        "                            max_val = self.room_height\n",
        "                        population[i].position[j] = np.clip(population[i].position[j], 0, max_val)\n",
        "\n",
        "                # Evaluate fitness\n",
        "                population[i].fitness = population[i].calculate_fitness()\n",
        "\n",
        "                # Update personal best\n",
        "                if population[i].fitness > self.personal_best[i].fitness:\n",
        "                    self.personal_best[i] = population[i].copy()\n",
        "\n",
        "                # Update global best\n",
        "                if population[i].fitness > self.best_solution.fitness:\n",
        "                    self.best_solution = population[i].copy()\n",
        "\n",
        "            self.fitness_history.append(self.best_solution.fitness)\n",
        "            self.population_history.append(self.best_solution.copy())\n",
        "\n",
        "        return self.best_solution\n",
        "\n",
        "class OptimizationComparator:\n",
        "    \"\"\"Class for comparing different optimization algorithms\"\"\"\n",
        "    def __init__(self, obstacles: List[Obstacle], room_width: float, room_height: float,\n",
        "                 wall_features: List[WallFeature] = None):\n",
        "        self.obstacles = obstacles\n",
        "        self.room_width = room_width\n",
        "        self.room_height = room_height\n",
        "        self.wall_features = wall_features or []\n",
        "        self.results = {}\n",
        "\n",
        "    def run_comparison(self, algorithms: Dict[str, OptimizationAlgorithm], num_runs: int = 10):\n",
        "        \"\"\"Run multiple algorithms and compare results\"\"\"\n",
        "        self.results = {}\n",
        "        for alg_name, algorithm in algorithms.items():\n",
        "            print(f\"Running {alg_name}...\")\n",
        "            alg_results = {\n",
        "                'fitness_scores': [],\n",
        "                'execution_times': [],\n",
        "                'convergence_histories': [],\n",
        "                'best_solutions': []\n",
        "            }\n",
        "            for run in range(num_runs):\n",
        "                print(f\" Run {run + 1}/{num_runs}\")\n",
        "                start_time = time.time()\n",
        "                best_solution = algorithm.optimize()\n",
        "                end_time = time.time()\n",
        "                alg_results['fitness_scores'].append(best_solution.fitness)\n",
        "                alg_results['execution_times'].append(end_time - start_time)\n",
        "                alg_results['convergence_histories'].append(algorithm.fitness_history.copy())\n",
        "                alg_results['best_solutions'].append(best_solution)\n",
        "\n",
        "                # Reset algorithm for next run\n",
        "                algorithm.best_solution = None\n",
        "                algorithm.fitness_history = []\n",
        "                algorithm.population_history = []\n",
        "\n",
        "            self.results[alg_name] = alg_results\n",
        "\n",
        "        return self.results\n",
        "\n",
        "    def generate_comparison_report(self):\n",
        "        \"\"\"Generate comprehensive comparison report\"\"\"\n",
        "        if not self.results:\n",
        "            print(\"No results to compare. Run comparison first.\")\n",
        "            return\n",
        "\n",
        "        print(\"\\n\" + \"=\"*80)\n",
        "        print(\"OPTIMIZATION ALGORITHM COMPARISON REPORT\")\n",
        "        print(\"=\"*80)\n",
        "\n",
        "        # Summary statistics\n",
        "        summary_data = []\n",
        "        for alg_name, results in self.results.items():\n",
        "            fitness_scores = results['fitness_scores']\n",
        "            execution_times = results['execution_times']\n",
        "            summary_data.append({\n",
        "                'Algorithm': alg_name,\n",
        "                'Mean Fitness': np.mean(fitness_scores),\n",
        "                'Std Fitness': np.std(fitness_scores),\n",
        "                'Best Fitness': np.max(fitness_scores),\n",
        "                'Worst Fitness': np.min(fitness_scores),\n",
        "                'Mean Time (s)': np.mean(execution_times),\n",
        "                'Std Time (s)': np.std(execution_times)\n",
        "            })\n",
        "\n",
        "        df_summary = pd.DataFrame(summary_data)\n",
        "        print(\"\\nSUMMARY STATISTICS:\")\n",
        "        print(df_summary.to_string(index=False, float_format='%.4f'))\n",
        "\n",
        "        # Statistical significance testing\n",
        "        print(\"\\n\\nSTATISTICAL SIGNIFICANCE TESTING:\")\n",
        "        algorithms = list(self.results.keys())\n",
        "        for i in range(len(algorithms)):\n",
        "            for j in range(i + 1, len(algorithms)):\n",
        "                alg1, alg2 = algorithms[i], algorithms[j]\n",
        "                scores1 = self.results[alg1]['fitness_scores']\n",
        "                scores2 = self.results[alg2]['fitness_scores']\n",
        "\n",
        "                # Perform t-test\n",
        "                if len(scores1) > 1 and len(scores2) > 1:\n",
        "                    t_stat, p_value = stats.ttest_ind(scores1, scores2)\n",
        "                    significance = \"***\" if p_value < 0.001 else \"**\" if p_value < 0.01 else \"*\" if p_value < 0.05 else \"\"\n",
        "                    print(f\"{alg1} vs {alg2}: t-stat = {t_stat:.4f}, p-value = {p_value:.4f} {significance}\")\n",
        "\n",
        "        # Performance Analysis\n",
        "        print(\"\\n\\nPERFORMANCE ANALYSIS:\")\n",
        "        poa_results = self.results.get('Pelican', None)\n",
        "        ga_results = self.results.get('Genetic', None)\n",
        "        pso_results = self.results.get('PSO', None)\n",
        "        if poa_results and ga_results and pso_results:\n",
        "            poa_mean = np.mean(poa_results['fitness_scores'])\n",
        "            ga_mean = np.mean(ga_results['fitness_scores'])\n",
        "            pso_mean = np.mean(pso_results['fitness_scores'])\n",
        "            print(f\"POA vs GA improvement: {((poa_mean - ga_mean) / ga_mean * 100):+.2f}%\")\n",
        "            print(f\"POA vs PSO improvement: {((poa_mean - pso_mean) / pso_mean * 100):+.2f}%\")\n",
        "\n",
        "        best_alg = max(self.results.keys(), key=lambda x: np.mean(self.results[x]['fitness_scores']))\n",
        "        print(f\"Best performing algorithm: {best_alg}\")\n",
        "\n",
        "        return df_summary\n",
        "\n",
        "    def visualize_comparison(self):\n",
        "        \"\"\"Create comprehensive visualization of comparison results\"\"\"\n",
        "        if not self.results:\n",
        "            print(\"No results to visualize. Run comparison first.\")\n",
        "            return\n",
        "\n",
        "        plt.style.use('default')\n",
        "        \n",
        "        # 1. Fitness Score Comparison (Box Plot)\n",
        "        fig1 = plt.figure(figsize=(16, 10))\n",
        "        ax1 = plt.subplot(2, 3, 1)\n",
        "        fitness_data = []\n",
        "        labels = []\n",
        "        for alg_name, results in self.results.items():\n",
        "            fitness_data.extend(results['fitness_scores'])\n",
        "            labels.extend([alg_name] * len(results['fitness_scores']))\n",
        "        df_fitness = pd.DataFrame({'Algorithm': labels, 'Fitness': fitness_data})\n",
        "        sns.boxplot(data=df_fitness, x='Algorithm', y='Fitness', ax=ax1)\n",
        "        ax1.set_title('Fitness Score Comparison', fontsize=14, fontweight='bold', loc='center')\n",
        "        ax1.tick_params(axis='x', rotation=45)\n",
        "\n",
        "        # 2. Execution Time Comparison\n",
        "        fig2 = plt.figure(figsize=(12, 10))\n",
        "        ax2 = plt.subplot(2, 3, 2)\n",
        "        time_data = []\n",
        "        labels = []\n",
        "        for alg_name, results in self.results.items():\n",
        "            time_data.extend(results['execution_times'])\n",
        "            labels.extend([alg_name] * len(results['execution_times']))\n",
        "        df_time = pd.DataFrame({'Algorithm': labels, 'Time': time_data})\n",
        "        sns.boxplot(data=df_time, x='Algorithm', y='Time', ax=ax2)\n",
        "        ax2.set_title('Execution Time Comparison', fontsize=14, fontweight='bold', loc='center')\n",
        "        ax2.set_ylabel('Time (seconds)')\n",
        "        ax2.tick_params(axis='x', rotation=45)\n",
        "\n",
        "        # 3. Convergence Curves\n",
        "        fig3 = plt.figure(figsize=(12, 10))\n",
        "        ax3 = plt.subplot(2, 3, 3)\n",
        "        colors = ['red', 'blue', 'green', 'orange', 'purple']\n",
        "        for i, (alg_name, results) in enumerate(self.results.items()):\n",
        "            convergence_histories = results['convergence_histories']\n",
        "            if convergence_histories:\n",
        "                max_len = max(len(history) for history in convergence_histories)\n",
        "                # Pad shorter histories with their last value\n",
        "                padded_histories = []\n",
        "                for history in convergence_histories:\n",
        "                    if len(history) > 0:\n",
        "                        padded = history + [history[-1]] * (max_len - len(history))\n",
        "                        padded_histories.append(padded)\n",
        "\n",
        "                if padded_histories:\n",
        "                    mean_convergence = np.mean(padded_histories, axis=0)\n",
        "                    std_convergence = np.std(padded_histories, axis=0)\n",
        "                    iterations = range(len(mean_convergence))\n",
        "                    ax3.plot(iterations, mean_convergence, label=alg_name, linewidth=2, color=colors[i % len(colors)])\n",
        "                    ax3.fill_between(iterations,\n",
        "                                   mean_convergence - std_convergence,\n",
        "                                   mean_convergence + std_convergence,\n",
        "                                   alpha=0.2, color=colors[i % len(colors)])\n",
        "\n",
        "        ax3.set_title('Convergence Comparison', fontsize=14, fontweight='bold', loc='center')\n",
        "        ax3.set_xlabel('Iteration')\n",
        "        ax3.set_ylabel('Fitness')\n",
        "        ax3.legend()\n",
        "        ax3.grid(True, alpha=0.3)\n",
        "\n",
        "        # 4. Performance Scatter Plot (Fitness vs Time)\n",
        "        fig4 = plt.figure(figsize=(12, 10))\n",
        "        ax4 = plt.subplot(2, 3, 4)\n",
        "        for i, (alg_name, results) in enumerate(self.results.items()):\n",
        "            fitness_scores = results['fitness_scores']\n",
        "            execution_times = results['execution_times']\n",
        "            ax4.scatter(execution_times, fitness_scores, label=alg_name, s=100, alpha=0.7, color=colors[i % len(colors)])\n",
        "\n",
        "        ax4.set_title('Performance Trade-off', fontsize=14, fontweight='bold', loc='center')\n",
        "        ax4.set_xlabel('Execution Time (seconds)')\n",
        "        ax4.set_ylabel('Fitness Score')\n",
        "        ax4.legend()\n",
        "        ax4.grid(True, alpha=0.3)\n",
        "\n",
        "        # 5. Best Solution Layout\n",
        "        fig5 = plt.figure(figsize=(12, 10))\n",
        "        ax5 = plt.subplot(2, 3, 5)\n",
        "        best_overall = None\n",
        "        best_fitness = -1\n",
        "        best_alg_name = \"\"\n",
        "        for alg_name, results in self.results.items():\n",
        "            if results['fitness_scores']:\n",
        "                best_run_idx = np.argmax(results['fitness_scores'])\n",
        "                if results['fitness_scores'][best_run_idx] > best_fitness:\n",
        "                    best_fitness = results['fitness_scores'][best_run_idx]\n",
        "                    best_overall = results['best_solutions'][best_run_idx]\n",
        "                    best_alg_name = alg_name\n",
        "\n",
        "        if best_overall:\n",
        "            # Draw room\n",
        "            room_rect = patches.Rectangle((0, 0), self.room_width, self.room_height,\n",
        "                                         linewidth=2, edgecolor='black', facecolor='lightgray', alpha=0.2)\n",
        "            ax5.add_patch(room_rect)\n",
        "\n",
        "            # Draw best solution furniture\n",
        "            positions = []\n",
        "            for i in range(0, len(best_overall.position), 3):\n",
        "                x = best_overall.position[i]\n",
        "                y = best_overall.position[i + 1]\n",
        "                rotation = int(best_overall.position[i + 2]) % 4 * 90\n",
        "                positions.append((x, y, rotation))\n",
        "\n",
        "            furniture_colors = ['#FF6B6B', '#4ECDC4', '#45B7D1', '#96CEB4', '#FFEAA7']\n",
        "            for i, (x, y, rotation) in enumerate(positions):\n",
        "                if i < len(self.obstacles):\n",
        "                    obstacle = self.obstacles[i]\n",
        "                    if rotation in [90, 270]:\n",
        "                        w, h = obstacle.height, obstacle.width\n",
        "                    else:\n",
        "                        w, h = obstacle.width, obstacle.height\n",
        "\n",
        "                    color = furniture_colors[i % len(furniture_colors)]\n",
        "                    rect = patches.Rectangle((x, y), w, h, linewidth=1,\n",
        "                                           edgecolor='black', facecolor=color, alpha=0.8)\n",
        "                    ax5.add_patch(rect)\n",
        "\n",
        "                    # Add furniture label\n",
        "                    ax5.text(x + w/2, y + h/2, obstacle.name[:8],\n",
        "                           ha='center', va='center', fontsize=8, weight='bold')\n",
        "\n",
        "            ax5.set_xlim(-0.2, self.room_width + 0.2)\n",
        "            ax5.set_ylim(-0.2, self.room_height + 0.2)\n",
        "            ax5.set_aspect('equal')\n",
        "            ax5.set_title(f'Best Layout ({best_alg_name})\\nFitness: {best_fitness:.3f}',\n",
        "                        fontsize=12, fontweight='bold', loc='center')\n",
        "\n",
        "        # 6. Statistical Summary\n",
        "        fig6 = plt.figure(figsize=(12, 10))\n",
        "        ax6 = plt.subplot(2, 3, 6)\n",
        "        ax6.axis('off')\n",
        "\n",
        "        # Create summary text\n",
        "        summary_text = \"STATISTICAL SUMMARY\\n\" + \"=\"*30 + \"\\n\\n\"\n",
        "        for alg_name, results in self.results.items():\n",
        "            fitness_scores = results['fitness_scores']\n",
        "            times = results['execution_times']\n",
        "            if fitness_scores and times:\n",
        "                summary_text += f\"{alg_name}:\\n\"\n",
        "                summary_text += f\" Mean Fitness: {np.mean(fitness_scores):.4f} ± {np.std(fitness_scores):.4f}\\n\"\n",
        "                summary_text += f\" Best Fitness: {np.max(fitness_scores):.4f}\\n\"\n",
        "                summary_text += f\" Mean Time: {np.mean(times):.2f}s ± {np.std(times):.2f}s\\n\"\n",
        "                summary_text += f\" Success Rate: {np.sum(np.array(fitness_scores) > 0.8)}/{len(fitness_scores)}\\n\\n\"\n",
        "\n",
        "        ax6.text(0.05, 0.95, summary_text, transform=ax6.transAxes, fontsize=10,\n",
        "                verticalalignment='top', fontfamily='monospace',\n",
        "                bbox=dict(boxstyle=\"round,pad=0.5\", facecolor='lightgray', alpha=0.8))\n",
        "\n",
        "        plt.tight_layout()\n",
        "        plt.suptitle('Comprehensive Optimization Algorithm Comparison',\n",
        "                    fontsize=16, fontweight='bold', y=0.98)\n",
        "\n",
        "        return [fig1,fig2,fig3,fig4,fig5,fig6]\n",
        "\n",
        "# Enhanced Room Layout Designer\n",
        "class RoomLayoutDesigner:\n",
        "    \"\"\"Main class for room layout design with multiple optimization algorithms\"\"\"\n",
        "    def __init__(self, room_width: float, room_height: float):\n",
        "        self.room_width = room_width\n",
        "        self.room_height = room_height\n",
        "        self.obstacles = []\n",
        "        self.wall_features = []\n",
        "        self.optimization_results = {}\n",
        "\n",
        "    def add_furniture(self, name: str, width: float, height: float,\n",
        "                      obstacle_type: ObstacleType = ObstacleType.FULL_BLOCKING, depth: float = 0.8):\n",
        "        \"\"\"Add furniture to the room\"\"\"\n",
        "        obstacle = Obstacle(name, width, height, obstacle_type, depth)\n",
        "        self.obstacles.append(obstacle)\n",
        "        return self\n",
        "\n",
        "    def add_door(self, wall: str, position: float, width: float = 0.9):\n",
        "        \"\"\"Add a door to the room\"\"\"\n",
        "        door = WallFeature(\"Door\", WallFeatureType.DOOR, wall, position, width)\n",
        "        self.wall_features.append(door)\n",
        "        return self\n",
        "\n",
        "    def add_window(self, wall: str, position: float, width: float = 1.2):\n",
        "        \"\"\"Add a window to the room\"\"\"\n",
        "        window = WallFeature(\"Window\", WallFeatureType.WINDOW, wall, position, width)\n",
        "        self.wall_features.append(window)\n",
        "        return self\n",
        "\n",
        "    def optimize_layout(self, algorithms: List[str] = None, population_size: int = 50,\n",
        "                         max_iterations: int = 100, num_runs: int = 10, seed: int = 42):\n",
        "        set_random_seed(seed)\n",
        "        \"\"\"Optimize room layout using specified algorithms\"\"\"\n",
        "        if algorithms is None:\n",
        "            algorithms = ['pelican', 'genetic', 'pso']\n",
        "\n",
        "        # Initialize algorithms\n",
        "        algorithm_instances = {}\n",
        "        for alg_name in algorithms:\n",
        "            if alg_name.lower() == 'pelican':\n",
        "                algorithm_instances['Pelican'] = PelicanOptimizationAlgorithm(\n",
        "                    self.obstacles, self.room_width, self.room_height,\n",
        "                    self.wall_features, population_size, max_iterations)\n",
        "            elif alg_name.lower() == 'genetic':\n",
        "                algorithm_instances['Genetic'] = GeneticAlgorithm(\n",
        "                    self.obstacles, self.room_width, self.room_height,\n",
        "                    self.wall_features, population_size, max_iterations)\n",
        "            elif alg_name.lower() == 'pso':\n",
        "                algorithm_instances['PSO'] = ParticleSwarmOptimization(\n",
        "                    self.obstacles, self.room_width, self.room_height,\n",
        "                    self.wall_features, population_size, max_iterations)\n",
        "\n",
        "        # Run comparison\n",
        "        comparator = OptimizationComparator(self.obstacles, self.room_width,\n",
        "                                          self.room_height, self.wall_features)\n",
        "        self.optimization_results = comparator.run_comparison(algorithm_instances, num_runs)\n",
        "\n",
        "        return comparator\n",
        "\n",
        "    def visualize_best_solutions(self, show_2d=True, show_3d=True):\n",
        "      \"\"\"Visualize the best solutions from optimization\"\"\"\n",
        "      if not self.optimization_results:\n",
        "          print(\"No optimization results found. Run optimize_layout() first.\")\n",
        "          return\n",
        "\n",
        "      # Get best solutions\n",
        "      best_solutions = {}\n",
        "      for alg_name, results in self.optimization_results.items():\n",
        "          if results['fitness_scores']:\n",
        "              best_run_idx = np.argmax(results['fitness_scores'])\n",
        "              best_solutions[alg_name] = results['best_solutions'][best_run_idx]\n",
        "\n",
        "      if not best_solutions:\n",
        "          print(\"No valid solutions found.\")\n",
        "          return\n",
        "\n",
        "      # Create 2D visualizations\n",
        "      if show_2d:\n",
        "          for i, (alg_name, solution) in enumerate(best_solutions.items()):\n",
        "              fig_2d, ax_2d = solution.visualize_solution_2d(title=f\"{alg_name} - Best Solution (2D)\")\n",
        "              plt.show()\n",
        "\n",
        "      # Create 3D visualizations using Plotly\n",
        "      if show_3d:\n",
        "          for i, (alg_name, solution) in enumerate(best_solutions.items()):\n",
        "              fig_3d = solution.visualize_solution_3d_plotly(title=f\"{alg_name} - Best Solution (3D)\")\n",
        "              fig_3d.show()\n",
        "\n",
        "# Example usage and demonstration\n",
        "def create_sample_room_layout():\n",
        "    \"\"\"Create a sample room layout for demonstration\"\"\"\n",
        "    # Create a bedroom layout\n",
        "    designer = RoomLayoutDesigner(room_width=5.0, room_height=4.0)\n",
        "\n",
        "    # Add furniture\n",
        "    designer.add_furniture(\"Double Bed\", 2.0, 1.6, ObstacleType.FULL_BLOCKING, 0.6)\n",
        "    designer.add_furniture(\"Wardrobe\", 1.2, 0.6, ObstacleType.FULL_BLOCKING, 2.2)\n",
        "    designer.add_furniture(\"Desk\", 1.2, 0.6, ObstacleType.FULL_BLOCKING, 0.75)\n",
        "    designer.add_furniture(\"Chair\", 0.5, 0.5, ObstacleType.FULL_BLOCKING, 0.9)\n",
        "    designer.add_furniture(\"Nightstand\", 0.5, 0.4, ObstacleType.FULL_BLOCKING, 0.6)\n",
        "\n",
        "    # Add doors and windows\n",
        "    designer.add_door(\"south\", 2.0, 0.9) # Door on south wall\n",
        "    designer.add_window(\"north\", 1.0, 1.5) # Window on north wall\n",
        "    designer.add_window(\"east\", 1.5, 1.0) # Window on east wall\n",
        "\n",
        "    return designer\n",
        "\n",
        "def run_comprehensive_analysis(show_2d=True, show_3d=True):\n",
        "    \"\"\"Run a comprehensive analysis of room layout optimization\"\"\"\n",
        "    print(\"Creating sample room layout...\")\n",
        "    designer = create_sample_room_layout()\n",
        "\n",
        "    print(\"Running optimization algorithms...\")\n",
        "    comparator = designer.optimize_layout(\n",
        "        algorithms=['pelican', 'genetic', 'pso'],\n",
        "        population_size=50,\n",
        "        max_iterations=100,\n",
        "        num_runs=75\n",
        "    )\n",
        "\n",
        "    print(\"Generating comparison report...\")\n",
        "    summary_df = comparator.generate_comparison_report()\n",
        "\n",
        "    print(\"Creating visualization...\")\n",
        "    figs = comparator.visualize_comparison()\n",
        "    for fig in figs:\n",
        "        fig.show()\n",
        "    \n",
        "\n",
        "    print(\"Creating best solution visualizations...\")\n",
        "    designer.visualize_best_solutions(show_2d=show_2d, show_3d=show_3d)\n",
        "\n",
        "    return designer, comparator, summary_df\n",
        "\n",
        "# Run the comprehensive analysis\n",
        "designer, comparator, summary_df = run_comprehensive_analysis()"
      ]
    },
    {
      "cell_type": "code",
      "execution_count": 4,
      "metadata": {},
      "outputs": [
        {
          "data": {
            "text/html": [
              "<div>\n",
              "<style scoped>\n",
              "    .dataframe tbody tr th:only-of-type {\n",
              "        vertical-align: middle;\n",
              "    }\n",
              "\n",
              "    .dataframe tbody tr th {\n",
              "        vertical-align: top;\n",
              "    }\n",
              "\n",
              "    .dataframe thead th {\n",
              "        text-align: right;\n",
              "    }\n",
              "</style>\n",
              "<table border=\"1\" class=\"dataframe\">\n",
              "  <thead>\n",
              "    <tr style=\"text-align: right;\">\n",
              "      <th></th>\n",
              "      <th>Algorithm</th>\n",
              "      <th>Mean Fitness</th>\n",
              "      <th>Std Fitness</th>\n",
              "      <th>Best Fitness</th>\n",
              "      <th>Worst Fitness</th>\n",
              "      <th>Mean Time (s)</th>\n",
              "      <th>Std Time (s)</th>\n",
              "    </tr>\n",
              "  </thead>\n",
              "  <tbody>\n",
              "    <tr>\n",
              "      <th>0</th>\n",
              "      <td>Pelican</td>\n",
              "      <td>0.900639</td>\n",
              "      <td>0.016696</td>\n",
              "      <td>0.9220</td>\n",
              "      <td>0.8560</td>\n",
              "      <td>0.790032</td>\n",
              "      <td>0.230839</td>\n",
              "    </tr>\n",
              "    <tr>\n",
              "      <th>1</th>\n",
              "      <td>Genetic</td>\n",
              "      <td>0.893902</td>\n",
              "      <td>0.009319</td>\n",
              "      <td>0.9065</td>\n",
              "      <td>0.8455</td>\n",
              "      <td>0.927704</td>\n",
              "      <td>0.112812</td>\n",
              "    </tr>\n",
              "    <tr>\n",
              "      <th>2</th>\n",
              "      <td>PSO</td>\n",
              "      <td>0.886464</td>\n",
              "      <td>0.014306</td>\n",
              "      <td>0.9030</td>\n",
              "      <td>0.8510</td>\n",
              "      <td>1.132432</td>\n",
              "      <td>0.147161</td>\n",
              "    </tr>\n",
              "  </tbody>\n",
              "</table>\n",
              "</div>"
            ],
            "text/plain": [
              "  Algorithm  Mean Fitness  Std Fitness  Best Fitness  Worst Fitness  \\\n",
              "0   Pelican      0.900639     0.016696        0.9220         0.8560   \n",
              "1   Genetic      0.893902     0.009319        0.9065         0.8455   \n",
              "2       PSO      0.886464     0.014306        0.9030         0.8510   \n",
              "\n",
              "   Mean Time (s)  Std Time (s)  \n",
              "0       0.790032      0.230839  \n",
              "1       0.927704      0.112812  \n",
              "2       1.132432      0.147161  "
            ]
          },
          "execution_count": 4,
          "metadata": {},
          "output_type": "execute_result"
        }
      ],
      "source": [
        "summary_df"
      ]
    }
  ],
  "metadata": {
    "colab": {
      "provenance": []
    },
    "kernelspec": {
      "display_name": "base",
      "language": "python",
      "name": "python3"
    },
    "language_info": {
      "codemirror_mode": {
        "name": "ipython",
        "version": 3
      },
      "file_extension": ".py",
      "mimetype": "text/x-python",
      "name": "python",
      "nbconvert_exporter": "python",
      "pygments_lexer": "ipython3",
      "version": "3.12.3"
    }
  },
  "nbformat": 4,
  "nbformat_minor": 0
}
